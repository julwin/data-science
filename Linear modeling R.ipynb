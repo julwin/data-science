{
 "cells": [
  {
   "cell_type": "markdown",
   "metadata": {},
   "source": [
    "### Aufgabe 2.0"
   ]
  },
  {
   "cell_type": "code",
   "execution_count": 1,
   "metadata": {
    "collapsed": true
   },
   "outputs": [],
   "source": [
    "data <- women"
   ]
  },
  {
   "cell_type": "code",
   "execution_count": 2,
   "metadata": {
    "collapsed": false
   },
   "outputs": [
    {
     "data": {
      "text/html": [
       "<table>\n",
       "<thead><tr><th></th><th scope=col>height</th><th scope=col>weight</th></tr></thead>\n",
       "<tbody>\n",
       "\t<tr><th scope=row>1</th><td>58</td><td>115</td></tr>\n",
       "\t<tr><th scope=row>2</th><td>59</td><td>117</td></tr>\n",
       "\t<tr><th scope=row>3</th><td>60</td><td>120</td></tr>\n",
       "\t<tr><th scope=row>4</th><td>61</td><td>123</td></tr>\n",
       "\t<tr><th scope=row>5</th><td>62</td><td>126</td></tr>\n",
       "\t<tr><th scope=row>6</th><td>63</td><td>129</td></tr>\n",
       "</tbody>\n",
       "</table>\n"
      ],
      "text/latex": [
       "\\begin{tabular}{r|ll}\n",
       "  & height & weight\\\\\n",
       "\\hline\n",
       "\t1 & 58 & 115\\\\\n",
       "\t2 & 59 & 117\\\\\n",
       "\t3 & 60 & 120\\\\\n",
       "\t4 & 61 & 123\\\\\n",
       "\t5 & 62 & 126\\\\\n",
       "\t6 & 63 & 129\\\\\n",
       "\\end{tabular}\n"
      ],
      "text/plain": [
       "  height weight\n",
       "1     58    115\n",
       "2     59    117\n",
       "3     60    120\n",
       "4     61    123\n",
       "5     62    126\n",
       "6     63    129"
      ]
     },
     "execution_count": 2,
     "metadata": {},
     "output_type": "execute_result"
    }
   ],
   "source": [
    "head(data)"
   ]
  },
  {
   "cell_type": "code",
   "execution_count": 3,
   "metadata": {
    "collapsed": false
   },
   "outputs": [
    {
     "data": {
      "text/plain": [
       "     height         weight     \n",
       " Min.   :58.0   Min.   :115.0  \n",
       " 1st Qu.:61.5   1st Qu.:124.5  \n",
       " Median :65.0   Median :135.0  \n",
       " Mean   :65.0   Mean   :136.7  \n",
       " 3rd Qu.:68.5   3rd Qu.:148.0  \n",
       " Max.   :72.0   Max.   :164.0  "
      ]
     },
     "execution_count": 3,
     "metadata": {},
     "output_type": "execute_result"
    }
   ],
   "source": [
    "summary(data)"
   ]
  },
  {
   "cell_type": "code",
   "execution_count": 4,
   "metadata": {
    "collapsed": false
   },
   "outputs": [
    {
     "data": {
      "text/html": [
       "<ol class=list-inline>\n",
       "\t<li>15</li>\n",
       "\t<li>2</li>\n",
       "</ol>\n"
      ],
      "text/latex": [
       "\\begin{enumerate*}\n",
       "\\item 15\n",
       "\\item 2\n",
       "\\end{enumerate*}\n"
      ],
      "text/markdown": [
       "1. 15\n",
       "2. 2\n",
       "\n",
       "\n"
      ],
      "text/plain": [
       "[1] 15  2"
      ]
     },
     "execution_count": 4,
     "metadata": {},
     "output_type": "execute_result"
    }
   ],
   "source": [
    "dim(data)"
   ]
  },
  {
   "cell_type": "markdown",
   "metadata": {},
   "source": [
    "(A)"
   ]
  },
  {
   "cell_type": "markdown",
   "metadata": {},
   "source": [
    "Schätzung der Parameter(Varianz, Erwartungswert) der Normalverteilung:"
   ]
  },
  {
   "cell_type": "code",
   "execution_count": 15,
   "metadata": {
    "collapsed": false
   },
   "outputs": [],
   "source": [
    "sd <- sd(data$height)"
   ]
  },
  {
   "cell_type": "code",
   "execution_count": 11,
   "metadata": {
    "collapsed": false
   },
   "outputs": [
    {
     "data": {
      "text/html": [
       "4.47213595499958"
      ],
      "text/latex": [
       "4.47213595499958"
      ],
      "text/markdown": [
       "4.47213595499958"
      ],
      "text/plain": [
       "[1] 4.472136"
      ]
     },
     "execution_count": 11,
     "metadata": {},
     "output_type": "execute_result"
    }
   ],
   "source": [
    "sqrt(var(data$height)) # Die Standardabweichung entspricht der Quadratwurzel der Varianz"
   ]
  },
  {
   "cell_type": "code",
   "execution_count": 12,
   "metadata": {
    "collapsed": false
   },
   "outputs": [
    {
     "data": {
      "text/html": [
       "65"
      ],
      "text/latex": [
       "65"
      ],
      "text/markdown": [
       "65"
      ],
      "text/plain": [
       "[1] 65"
      ]
     },
     "execution_count": 12,
     "metadata": {},
     "output_type": "execute_result"
    }
   ],
   "source": [
    "mean(data$height)"
   ]
  },
  {
   "cell_type": "code",
   "execution_count": 14,
   "metadata": {
    "collapsed": false
   },
   "outputs": [],
   "source": [
    "x <- seq(58,72)"
   ]
  },
  {
   "cell_type": "code",
   "execution_count": 22,
   "metadata": {
    "collapsed": false
   },
   "outputs": [
    {
     "data": {
      "image/png": "[encoded data removed]",
      "text/plain": [
       "plot without title"
      ]
     },
     "metadata": {
      "image/svg+xml": {
       "isolated": true
      }
     },
     "output_type": "display_data"
    }
   ],
   "source": [
    "plot(dnorm(x, mean=65, sd=3.5), type=\"l\")"
   ]
  },
  {
   "cell_type": "code",
   "execution_count": 20,
   "metadata": {
    "collapsed": false
   },
   "outputs": [
    {
     "data": {
      "image/png": "[encoded data removed]",
      "text/plain": [
       "plot without title"
      ]
     },
     "metadata": {
      "image/svg+xml": {
       "isolated": true
      }
     },
     "output_type": "display_data"
    }
   ],
   "source": [
    "plot(dnorm(x, mean=65, sd=sd), type=\"l\")"
   ]
  },
  {
   "cell_type": "markdown",
   "metadata": {},
   "source": [
    "(B)"
   ]
  },
  {
   "cell_type": "code",
   "execution_count": 33,
   "metadata": {
    "collapsed": false
   },
   "outputs": [
    {
     "data": {
      "text/html": [
       "0.00213736698008626"
      ],
      "text/latex": [
       "0.00213736698008626"
      ],
      "text/markdown": [
       "0.00213736698008626"
      ],
      "text/plain": [
       "[1] 0.002137367"
      ]
     },
     "execution_count": 33,
     "metadata": {},
     "output_type": "execute_result"
    }
   ],
   "source": [
    "1-pnorm(75,mean=65,sd=3.5)"
   ]
  },
  {
   "cell_type": "code",
   "execution_count": 35,
   "metadata": {
    "collapsed": false
   },
   "outputs": [
    {
     "data": {
      "text/html": [
       "0.0126736593387341"
      ],
      "text/latex": [
       "0.0126736593387341"
      ],
      "text/markdown": [
       "0.0126736593387341"
      ],
      "text/plain": [
       "[1] 0.01267366"
      ]
     },
     "execution_count": 35,
     "metadata": {},
     "output_type": "execute_result"
    }
   ],
   "source": [
    "1-pnorm(75,mean=65,sd=sd)"
   ]
  },
  {
   "cell_type": "markdown",
   "metadata": {},
   "source": [
    "(C)"
   ]
  },
  {
   "cell_type": "code",
   "execution_count": 31,
   "metadata": {
    "collapsed": false
   },
   "outputs": [
    {
     "data": {
      "text/html": [
       "0.423436274490165"
      ],
      "text/latex": [
       "0.423436274490165"
      ],
      "text/markdown": [
       "0.423436274490165"
      ],
      "text/plain": [
       "[1] 0.4234363"
      ]
     },
     "execution_count": 31,
     "metadata": {},
     "output_type": "execute_result"
    }
   ],
   "source": [
    "pnorm(65,mean=65, sd=3.5)-pnorm(60, mean=65, sd=3.5)"
   ]
  },
  {
   "cell_type": "code",
   "execution_count": 32,
   "metadata": {
    "collapsed": false
   },
   "outputs": [
    {
     "data": {
      "text/html": [
       "0.368223761358514"
      ],
      "text/latex": [
       "0.368223761358514"
      ],
      "text/markdown": [
       "0.368223761358514"
      ],
      "text/plain": [
       "[1] 0.3682238"
      ]
     },
     "execution_count": 32,
     "metadata": {},
     "output_type": "execute_result"
    }
   ],
   "source": [
    "pnorm(65,mean=65, sd=sd)-pnorm(60, mean=65, sd=sd)"
   ]
  },
  {
   "cell_type": "markdown",
   "metadata": {},
   "source": [
    "### Aufgabe 2.1"
   ]
  },
  {
   "cell_type": "code",
   "execution_count": 36,
   "metadata": {
    "collapsed": true
   },
   "outputs": [],
   "source": [
    "state_data = state.x77"
   ]
  },
  {
   "cell_type": "code",
   "execution_count": 37,
   "metadata": {
    "collapsed": false
   },
   "outputs": [
    {
     "data": {
      "text/html": [
       "<table>\n",
       "<thead><tr><th></th><th scope=col>Population</th><th scope=col>Income</th><th scope=col>Illiteracy</th><th scope=col>Life Exp</th><th scope=col>Murder</th><th scope=col>HS Grad</th><th scope=col>Frost</th><th scope=col>Area</th></tr></thead>\n",
       "<tbody>\n",
       "\t<tr><th scope=row>Alabama</th><td> 3615.00</td><td> 3624.00</td><td>    2.10</td><td>   69.05</td><td>   15.10</td><td>   41.30</td><td>   20.00</td><td>50708.00</td></tr>\n",
       "\t<tr><th scope=row>Alaska</th><td>   365.00</td><td>  6315.00</td><td>     1.50</td><td>    69.31</td><td>    11.30</td><td>    66.70</td><td>   152.00</td><td>566432.00</td></tr>\n",
       "\t<tr><th scope=row>Arizona</th><td>  2212.00</td><td>  4530.00</td><td>     1.80</td><td>    70.55</td><td>     7.80</td><td>    58.10</td><td>    15.00</td><td>113417.00</td></tr>\n",
       "\t<tr><th scope=row>Arkansas</th><td> 2110.00</td><td> 3378.00</td><td>    1.90</td><td>   70.66</td><td>   10.10</td><td>   39.90</td><td>   65.00</td><td>51945.00</td></tr>\n",
       "\t<tr><th scope=row>California</th><td> 21198.00</td><td>  5114.00</td><td>     1.10</td><td>    71.71</td><td>    10.30</td><td>    62.60</td><td>    20.00</td><td>156361.00</td></tr>\n",
       "\t<tr><th scope=row>Colorado</th><td>  2541.00</td><td>  4884.00</td><td>     0.70</td><td>    72.06</td><td>     6.80</td><td>    63.90</td><td>   166.00</td><td>103766.00</td></tr>\n",
       "</tbody>\n",
       "</table>\n"
      ],
      "text/latex": [
       "\\begin{tabular}{r|llllllll}\n",
       "  & Population & Income & Illiteracy & Life Exp & Murder & HS Grad & Frost & Area\\\\\n",
       "\\hline\n",
       "\tAlabama &  3615.00 &  3624.00 &     2.10 &    69.05 &    15.10 &    41.30 &    20.00 & 50708.00\\\\\n",
       "\tAlaska &    365.00 &   6315.00 &      1.50 &     69.31 &     11.30 &     66.70 &    152.00 & 566432.00\\\\\n",
       "\tArizona &   2212.00 &   4530.00 &      1.80 &     70.55 &      7.80 &     58.10 &     15.00 & 113417.00\\\\\n",
       "\tArkansas &  2110.00 &  3378.00 &     1.90 &    70.66 &    10.10 &    39.90 &    65.00 & 51945.00\\\\\n",
       "\tCalifornia &  21198.00 &   5114.00 &      1.10 &     71.71 &     10.30 &     62.60 &     20.00 & 156361.00\\\\\n",
       "\tColorado &   2541.00 &   4884.00 &      0.70 &     72.06 &      6.80 &     63.90 &    166.00 & 103766.00\\\\\n",
       "\\end{tabular}\n"
      ],
      "text/markdown": [
       "1. 3615\n",
       "2. 365\n",
       "3. 2212\n",
       "4. 2110\n",
       "5. 21198\n",
       "6. 2541\n",
       "7. 3624\n",
       "8. 6315\n",
       "9. 4530\n",
       "10. 3378\n",
       "11. 5114\n",
       "12. 4884\n",
       "13. 2.1\n",
       "14. 1.5\n",
       "15. 1.8\n",
       "16. 1.9\n",
       "17. 1.1\n",
       "18. 0.7\n",
       "19. 69.05\n",
       "20. 69.31\n",
       "21. 70.55\n",
       "22. 70.66\n",
       "23. 71.71\n",
       "24. 72.06\n",
       "25. 15.1\n",
       "26. 11.3\n",
       "27. 7.8\n",
       "28. 10.1\n",
       "29. 10.3\n",
       "30. 6.8\n",
       "31. 41.3\n",
       "32. 66.7\n",
       "33. 58.1\n",
       "34. 39.9\n",
       "35. 62.6\n",
       "36. 63.9\n",
       "37. 20\n",
       "38. 152\n",
       "39. 15\n",
       "40. 65\n",
       "41. 20\n",
       "42. 166\n",
       "43. 50708\n",
       "44. 566432\n",
       "45. 113417\n",
       "46. 51945\n",
       "47. 156361\n",
       "48. 103766\n",
       "\n",
       "\n"
      ],
      "text/plain": [
       "           Population Income Illiteracy Life Exp Murder HS Grad Frost   Area\n",
       "Alabama          3615   3624        2.1    69.05   15.1    41.3    20  50708\n",
       "Alaska            365   6315        1.5    69.31   11.3    66.7   152 566432\n",
       "Arizona          2212   4530        1.8    70.55    7.8    58.1    15 113417\n",
       "Arkansas         2110   3378        1.9    70.66   10.1    39.9    65  51945\n",
       "California      21198   5114        1.1    71.71   10.3    62.6    20 156361\n",
       "Colorado         2541   4884        0.7    72.06    6.8    63.9   166 103766"
      ]
     },
     "execution_count": 37,
     "metadata": {},
     "output_type": "execute_result"
    }
   ],
   "source": [
    "head(state_data)"
   ]
  },
  {
   "cell_type": "code",
   "execution_count": 38,
   "metadata": {
    "collapsed": false
   },
   "outputs": [
    {
     "data": {
      "text/plain": [
       "   Population        Income       Illiteracy       Life Exp    \n",
       " Min.   :  365   Min.   :3098   Min.   :0.500   Min.   :67.96  \n",
       " 1st Qu.: 1080   1st Qu.:3993   1st Qu.:0.625   1st Qu.:70.12  \n",
       " Median : 2838   Median :4519   Median :0.950   Median :70.67  \n",
       " Mean   : 4246   Mean   :4436   Mean   :1.170   Mean   :70.88  \n",
       " 3rd Qu.: 4968   3rd Qu.:4814   3rd Qu.:1.575   3rd Qu.:71.89  \n",
       " Max.   :21198   Max.   :6315   Max.   :2.800   Max.   :73.60  \n",
       "     Murder          HS Grad          Frost             Area       \n",
       " Min.   : 1.400   Min.   :37.80   Min.   :  0.00   Min.   :  1049  \n",
       " 1st Qu.: 4.350   1st Qu.:48.05   1st Qu.: 66.25   1st Qu.: 36985  \n",
       " Median : 6.850   Median :53.25   Median :114.50   Median : 54277  \n",
       " Mean   : 7.378   Mean   :53.11   Mean   :104.46   Mean   : 70736  \n",
       " 3rd Qu.:10.675   3rd Qu.:59.15   3rd Qu.:139.75   3rd Qu.: 81163  \n",
       " Max.   :15.100   Max.   :67.30   Max.   :188.00   Max.   :566432  "
      ]
     },
     "execution_count": 38,
     "metadata": {},
     "output_type": "execute_result"
    }
   ],
   "source": [
    "summary(state_data)"
   ]
  },
  {
   "cell_type": "code",
   "execution_count": 39,
   "metadata": {
    "collapsed": false
   },
   "outputs": [
    {
     "data": {
      "text/html": [
       "<ol class=list-inline>\n",
       "\t<li>50</li>\n",
       "\t<li>8</li>\n",
       "</ol>\n"
      ],
      "text/latex": [
       "\\begin{enumerate*}\n",
       "\\item 50\n",
       "\\item 8\n",
       "\\end{enumerate*}\n"
      ],
      "text/markdown": [
       "1. 50\n",
       "2. 8\n",
       "\n",
       "\n"
      ],
      "text/plain": [
       "[1] 50  8"
      ]
     },
     "execution_count": 39,
     "metadata": {},
     "output_type": "execute_result"
    }
   ],
   "source": [
    "dim(state_data)"
   ]
  },
  {
   "cell_type": "code",
   "execution_count": 40,
   "metadata": {
    "collapsed": false
   },
   "outputs": [
    {
     "data": {
      "text/html": [
       "<table>\n",
       "<thead><tr><th></th><th scope=col>Population</th><th scope=col>Income</th><th scope=col>Illiteracy</th><th scope=col>Life Exp</th><th scope=col>Murder</th><th scope=col>HS Grad</th><th scope=col>Frost</th><th scope=col>Area</th></tr></thead>\n",
       "<tbody>\n",
       "\t<tr><th scope=row>Population</th><td> 1.00000000</td><td> 0.20822756</td><td> 0.10762237</td><td>-0.06805195</td><td> 0.34364275</td><td>-0.09848975</td><td>-0.33215245</td><td> 0.02254384</td></tr>\n",
       "\t<tr><th scope=row>Income</th><td> 0.2082276</td><td> 1.0000000</td><td>-0.4370752</td><td> 0.3402553</td><td>-0.2300776</td><td> 0.6199323</td><td> 0.2262822</td><td> 0.3633154</td></tr>\n",
       "\t<tr><th scope=row>Illiteracy</th><td> 0.10762237</td><td>-0.43707519</td><td> 1.00000000</td><td>-0.58847793</td><td> 0.70297520</td><td>-0.65718861</td><td>-0.67194697</td><td> 0.07726113</td></tr>\n",
       "\t<tr><th scope=row>Life Exp</th><td>-0.06805195</td><td> 0.34025534</td><td>-0.58847793</td><td> 1.00000000</td><td>-0.78084575</td><td> 0.58221620</td><td> 0.26206801</td><td>-0.10733194</td></tr>\n",
       "\t<tr><th scope=row>Murder</th><td> 0.3436428</td><td>-0.2300776</td><td> 0.7029752</td><td>-0.7808458</td><td> 1.0000000</td><td>-0.4879710</td><td>-0.5388834</td><td> 0.2283902</td></tr>\n",
       "\t<tr><th scope=row>HS Grad</th><td>-0.09848975</td><td> 0.61993232</td><td>-0.65718861</td><td> 0.58221620</td><td>-0.48797102</td><td> 1.00000000</td><td> 0.36677970</td><td> 0.33354187</td></tr>\n",
       "\t<tr><th scope=row>Frost</th><td>-0.3321525</td><td> 0.2262822</td><td>-0.6719470</td><td> 0.2620680</td><td>-0.5388834</td><td> 0.3667797</td><td> 1.0000000</td><td> 0.0592291</td></tr>\n",
       "\t<tr><th scope=row>Area</th><td> 0.02254384</td><td> 0.36331544</td><td> 0.07726113</td><td>-0.10733194</td><td> 0.22839021</td><td> 0.33354187</td><td> 0.05922910</td><td> 1.00000000</td></tr>\n",
       "</tbody>\n",
       "</table>\n"
      ],
      "text/latex": [
       "\\begin{tabular}{r|llllllll}\n",
       "  & Population & Income & Illiteracy & Life Exp & Murder & HS Grad & Frost & Area\\\\\n",
       "\\hline\n",
       "\tPopulation &  1.00000000 &  0.20822756 &  0.10762237 & -0.06805195 &  0.34364275 & -0.09848975 & -0.33215245 &  0.02254384\\\\\n",
       "\tIncome &  0.2082276 &  1.0000000 & -0.4370752 &  0.3402553 & -0.2300776 &  0.6199323 &  0.2262822 &  0.3633154\\\\\n",
       "\tIlliteracy &  0.10762237 & -0.43707519 &  1.00000000 & -0.58847793 &  0.70297520 & -0.65718861 & -0.67194697 &  0.07726113\\\\\n",
       "\tLife Exp & -0.06805195 &  0.34025534 & -0.58847793 &  1.00000000 & -0.78084575 &  0.58221620 &  0.26206801 & -0.10733194\\\\\n",
       "\tMurder &  0.3436428 & -0.2300776 &  0.7029752 & -0.7808458 &  1.0000000 & -0.4879710 & -0.5388834 &  0.2283902\\\\\n",
       "\tHS Grad & -0.09848975 &  0.61993232 & -0.65718861 &  0.58221620 & -0.48797102 &  1.00000000 &  0.36677970 &  0.33354187\\\\\n",
       "\tFrost & -0.3321525 &  0.2262822 & -0.6719470 &  0.2620680 & -0.5388834 &  0.3667797 &  1.0000000 &  0.0592291\\\\\n",
       "\tArea &  0.02254384 &  0.36331544 &  0.07726113 & -0.10733194 &  0.22839021 &  0.33354187 &  0.05922910 &  1.00000000\\\\\n",
       "\\end{tabular}\n"
      ],
      "text/markdown": [
       "1. 1\n",
       "2. 0.208227557479216\n",
       "3. 0.107622373394733\n",
       "4. -0.0680519520843897\n",
       "5. 0.343642750812065\n",
       "6. -0.0984897481740015\n",
       "7. -0.332152453881136\n",
       "8. 0.0225438372407769\n",
       "9. 0.208227557479216\n",
       "10. 1\n",
       "11. -0.437075185597417\n",
       "12. 0.340255338936367\n",
       "13. -0.230077610259372\n",
       "14. 0.619932323134002\n",
       "15. 0.226282178878177\n",
       "16. 0.363315438033888\n",
       "17. 0.107622373394733\n",
       "18. -0.437075185597417\n",
       "19. 1\n",
       "20. -0.588477925579257\n",
       "21. 0.70297519868417\n",
       "22. -0.657188609438515\n",
       "23. -0.671946968001684\n",
       "24. 0.0772611322709803\n",
       "25. -0.0680519520843897\n",
       "26. 0.340255338936367\n",
       "27. -0.588477925579257\n",
       "28. 1\n",
       "29. -0.780845752227159\n",
       "30. 0.582216203903882\n",
       "31. 0.262068010507507\n",
       "32. -0.107331935353758\n",
       "33. 0.343642750812065\n",
       "34. -0.230077610259372\n",
       "35. 0.70297519868417\n",
       "36. -0.780845752227159\n",
       "37. 1\n",
       "38. -0.487971022334675\n",
       "39. -0.538883436671731\n",
       "40. 0.228390210593977\n",
       "41. -0.0984897481740015\n",
       "42. 0.619932323134002\n",
       "43. -0.657188609438515\n",
       "44. 0.582216203903882\n",
       "45. -0.487971022334675\n",
       "46. 1\n",
       "47. 0.366779701546702\n",
       "48. 0.333541870849663\n",
       "49. -0.332152453881136\n",
       "50. 0.226282178878177\n",
       "51. -0.671946968001684\n",
       "52. 0.262068010507507\n",
       "53. -0.538883436671731\n",
       "54. 0.366779701546702\n",
       "55. 1\n",
       "56. 0.0592291016978705\n",
       "57. 0.0225438372407769\n",
       "58. 0.363315438033888\n",
       "59. 0.0772611322709803\n",
       "60. -0.107331935353758\n",
       "61. 0.228390210593977\n",
       "62. 0.333541870849663\n",
       "63. 0.0592291016978705\n",
       "64. 1\n",
       "\n",
       "\n"
      ],
      "text/plain": [
       "            Population     Income  Illiteracy    Life Exp     Murder\n",
       "Population  1.00000000  0.2082276  0.10762237 -0.06805195  0.3436428\n",
       "Income      0.20822756  1.0000000 -0.43707519  0.34025534 -0.2300776\n",
       "Illiteracy  0.10762237 -0.4370752  1.00000000 -0.58847793  0.7029752\n",
       "Life Exp   -0.06805195  0.3402553 -0.58847793  1.00000000 -0.7808458\n",
       "Murder      0.34364275 -0.2300776  0.70297520 -0.78084575  1.0000000\n",
       "HS Grad    -0.09848975  0.6199323 -0.65718861  0.58221620 -0.4879710\n",
       "Frost      -0.33215245  0.2262822 -0.67194697  0.26206801 -0.5388834\n",
       "Area        0.02254384  0.3633154  0.07726113 -0.10733194  0.2283902\n",
       "               HS Grad      Frost        Area\n",
       "Population -0.09848975 -0.3321525  0.02254384\n",
       "Income      0.61993232  0.2262822  0.36331544\n",
       "Illiteracy -0.65718861 -0.6719470  0.07726113\n",
       "Life Exp    0.58221620  0.2620680 -0.10733194\n",
       "Murder     -0.48797102 -0.5388834  0.22839021\n",
       "HS Grad     1.00000000  0.3667797  0.33354187\n",
       "Frost       0.36677970  1.0000000  0.05922910\n",
       "Area        0.33354187  0.0592291  1.00000000"
      ]
     },
     "execution_count": 40,
     "metadata": {},
     "output_type": "execute_result"
    }
   ],
   "source": [
    "cor(state_data)"
   ]
  },
  {
   "cell_type": "code",
   "execution_count": 50,
   "metadata": {
    "collapsed": true
   },
   "outputs": [],
   "source": [
    "col <- colorRampPalette(c(\"forestgreen\", \"white\",\"indianred\"))(20)"
   ]
  },
  {
   "cell_type": "code",
   "execution_count": 51,
   "metadata": {
    "collapsed": false
   },
   "outputs": [
    {
     "data": {
      "image/png": "[encoded data removed]",
      "text/plain": [
       "plot without title"
      ]
     },
     "metadata": {
      "image/svg+xml": {
       "isolated": true
      }
     },
     "output_type": "display_data"
    }
   ],
   "source": [
    "heatmap(x=cor(state_data), col=col, symm=TRUE)"
   ]
  },
  {
   "cell_type": "code",
   "execution_count": 45,
   "metadata": {
    "collapsed": false
   },
   "outputs": [
    {
     "data": {
      "image/png": "[encoded data removed]",
      "text/plain": [
       "plot without title"
      ]
     },
     "metadata": {
      "image/svg+xml": {
       "isolated": true
      }
     },
     "output_type": "display_data"
    }
   ],
   "source": [
    "pairs(cor(state_data))"
   ]
  },
  {
   "cell_type": "markdown",
   "metadata": {},
   "source": [
    "Antwort: Illiteracy und Income, Murder und LifeExp und Illiteracy mit Frost korrelieren am stärksten negativ. Income und HS Grad und LifeXP korrelieren positiv."
   ]
  },
  {
   "cell_type": "markdown",
   "metadata": {},
   "source": [
    "### Aufgabe 2.2"
   ]
  },
  {
   "cell_type": "code",
   "execution_count": 80,
   "metadata": {
    "collapsed": true
   },
   "outputs": [],
   "source": [
    "murder <- data.frame(state.x77)"
   ]
  },
  {
   "cell_type": "code",
   "execution_count": 122,
   "metadata": {
    "collapsed": false
   },
   "outputs": [],
   "source": [
    "model1 <- lm(Murder ~ Illiteracy, data=murder)"
   ]
  },
  {
   "cell_type": "code",
   "execution_count": 123,
   "metadata": {
    "collapsed": false
   },
   "outputs": [
    {
     "data": {
      "text/plain": [
       "\n",
       "Call:\n",
       "lm(formula = Murder ~ Illiteracy, data = murder)\n",
       "\n",
       "Residuals:\n",
       "    Min      1Q  Median      3Q     Max \n",
       "-5.5315 -2.0602 -0.2503  1.6916  6.9745 \n",
       "\n",
       "Coefficients:\n",
       "            Estimate Std. Error t value Pr(>|t|)    \n",
       "(Intercept)   2.3968     0.8184   2.928   0.0052 ** \n",
       "Illiteracy    4.2575     0.6217   6.848 1.26e-08 ***\n",
       "---\n",
       "Signif. codes:  0 '***' 0.001 '**' 0.01 '*' 0.05 '.' 0.1 ' ' 1\n",
       "\n",
       "Residual standard error: 2.653 on 48 degrees of freedom\n",
       "Multiple R-squared:  0.4942,\tAdjusted R-squared:  0.4836 \n",
       "F-statistic: 46.89 on 1 and 48 DF,  p-value: 1.258e-08\n"
      ]
     },
     "execution_count": 123,
     "metadata": {},
     "output_type": "execute_result"
    }
   ],
   "source": [
    "summary(model1)"
   ]
  },
  {
   "cell_type": "code",
   "execution_count": 99,
   "metadata": {
    "collapsed": true
   },
   "outputs": [],
   "source": [
    "m <- (c(2.3968,4.2575))"
   ]
  },
  {
   "cell_type": "code",
   "execution_count": 100,
   "metadata": {
    "collapsed": true
   },
   "outputs": [],
   "source": [
    "s <- c(0.8184, 0.6217)"
   ]
  },
  {
   "cell_type": "code",
   "execution_count": 101,
   "metadata": {
    "collapsed": true
   },
   "outputs": [],
   "source": [
    "par(mfrow=c(2,2))"
   ]
  },
  {
   "cell_type": "code",
   "execution_count": 102,
   "metadata": {
    "collapsed": true
   },
   "outputs": [],
   "source": [
    "x <- seq(m[1]-3*s[1],m[1]+3*s[1],length=100)"
   ]
  },
  {
   "cell_type": "code",
   "execution_count": 103,
   "metadata": {
    "collapsed": false
   },
   "outputs": [
    {
     "data": {
      "image/png": "[encoded data removed]",
      "text/plain": [
       "plot without title"
      ]
     },
     "metadata": {
      "image/svg+xml": {
       "isolated": true
      }
     },
     "output_type": "display_data"
    }
   ],
   "source": [
    "plot(x, dnorm(x,m[1],s[1]),type='l', xlab=expression(mu), ylab=\"likelihood\")"
   ]
  },
  {
   "cell_type": "code",
   "execution_count": 133,
   "metadata": {
    "collapsed": false
   },
   "outputs": [
    {
     "data": {
      "image/png": "[encoded data removed]",
      "text/plain": [
       "Plot with title \"\""
      ]
     },
     "metadata": {
      "image/svg+xml": {
       "isolated": true
      }
     },
     "output_type": "display_data"
    },
    {
     "data": {
      "image/png": "[encoded data removed]",
      "text/plain": [
       "Plot with title \"\""
      ]
     },
     "metadata": {
      "image/svg+xml": {
       "isolated": true
      }
     },
     "output_type": "display_data"
    },
    {
     "data": {
      "image/png": "[encoded data removed]",
      "text/plain": [
       "Plot with title \"\""
      ]
     },
     "metadata": {
      "image/svg+xml": {
       "isolated": true
      }
     },
     "output_type": "display_data"
    },
    {
     "data": {
      "image/png": "[encoded data removed]",
      "text/plain": [
       "Plot with title \"\""
      ]
     },
     "metadata": {
      "image/svg+xml": {
       "isolated": true
      }
     },
     "output_type": "display_data"
    }
   ],
   "source": [
    "plot(model1)"
   ]
  },
  {
   "cell_type": "code",
   "execution_count": 104,
   "metadata": {
    "collapsed": true
   },
   "outputs": [],
   "source": [
    "x <- seq(m[2]-3*s[2],m[2]+3*s[2],length=100)"
   ]
  },
  {
   "cell_type": "code",
   "execution_count": 105,
   "metadata": {
    "collapsed": false
   },
   "outputs": [
    {
     "data": {
      "image/png": "[encoded data removed]",
      "text/plain": [
       "plot without title"
      ]
     },
     "metadata": {
      "image/svg+xml": {
       "isolated": true
      }
     },
     "output_type": "display_data"
    }
   ],
   "source": [
    "plot(x, dnorm(x,m[2],s[2]),type='l', xlab=expression(mu), ylab=\"likelihood\")"
   ]
  },
  {
   "cell_type": "code",
   "execution_count": 124,
   "metadata": {
    "collapsed": false
   },
   "outputs": [
    {
     "data": {
      "image/png": "[encoded data removed]",
      "text/plain": [
       "plot without title"
      ]
     },
     "metadata": {
      "image/svg+xml": {
       "isolated": true
      }
     },
     "output_type": "display_data"
    }
   ],
   "source": [
    "plot(murder$Murder, murder$Illiteracy, xlab=\"Murder\", ylab=\"Illiteracy\")\n",
    "abline(coef(model1))"
   ]
  },
  {
   "cell_type": "code",
   "execution_count": 119,
   "metadata": {
    "collapsed": false
   },
   "outputs": [],
   "source": [
    "model2 <- lm(Murder ~ HS.Grad, data=murder)"
   ]
  },
  {
   "cell_type": "code",
   "execution_count": 140,
   "metadata": {
    "collapsed": false
   },
   "outputs": [
    {
     "data": {
      "image/png": "[encoded data removed]",
      "text/plain": [
       "plot without title"
      ]
     },
     "metadata": {
      "image/svg+xml": {
       "isolated": true
      }
     },
     "output_type": "display_data"
    }
   ],
   "source": [
    "plot(murder$Murder, murder$HS.Grad)\n",
    "abline(model2)"
   ]
  },
  {
   "cell_type": "markdown",
   "metadata": {},
   "source": [
    "Welches Modell ist das bessere?"
   ]
  },
  {
   "cell_type": "code",
   "execution_count": 125,
   "metadata": {
    "collapsed": false
   },
   "outputs": [
    {
     "data": {
      "image/png": "[encoded data removed]",
      "text/plain": [
       "plot without title"
      ]
     },
     "metadata": {
      "image/svg+xml": {
       "isolated": true
      }
     },
     "output_type": "display_data"
    }
   ],
   "source": [
    "plot(fitted(model1), resid(model1), xlab=\"fitted values\", ylab=\"resid\")"
   ]
  },
  {
   "cell_type": "code",
   "execution_count": 126,
   "metadata": {
    "collapsed": false
   },
   "outputs": [
    {
     "data": {
      "image/png": "[encoded data removed]",
      "text/plain": [
       "plot without title"
      ]
     },
     "metadata": {
      "image/svg+xml": {
       "isolated": true
      }
     },
     "output_type": "display_data"
    }
   ],
   "source": [
    "plot(fitted(model2), resid(model2), xlab=\"fitted values\", ylab=\"resid\")"
   ]
  },
  {
   "cell_type": "markdown",
   "metadata": {},
   "source": [
    "### Aufgabe 2.3"
   ]
  },
  {
   "cell_type": "code",
   "execution_count": 127,
   "metadata": {
    "collapsed": true
   },
   "outputs": [],
   "source": [
    "women = women"
   ]
  },
  {
   "cell_type": "code",
   "execution_count": 130,
   "metadata": {
    "collapsed": false
   },
   "outputs": [
    {
     "data": {
      "text/html": [
       "<table>\n",
       "<thead><tr><th></th><th scope=col>height</th><th scope=col>weight</th></tr></thead>\n",
       "<tbody>\n",
       "\t<tr><th scope=row>1</th><td>58</td><td>115</td></tr>\n",
       "\t<tr><th scope=row>2</th><td>59</td><td>117</td></tr>\n",
       "\t<tr><th scope=row>3</th><td>60</td><td>120</td></tr>\n",
       "\t<tr><th scope=row>4</th><td>61</td><td>123</td></tr>\n",
       "\t<tr><th scope=row>5</th><td>62</td><td>126</td></tr>\n",
       "\t<tr><th scope=row>6</th><td>63</td><td>129</td></tr>\n",
       "</tbody>\n",
       "</table>\n"
      ],
      "text/latex": [
       "\\begin{tabular}{r|ll}\n",
       "  & height & weight\\\\\n",
       "\\hline\n",
       "\t1 & 58 & 115\\\\\n",
       "\t2 & 59 & 117\\\\\n",
       "\t3 & 60 & 120\\\\\n",
       "\t4 & 61 & 123\\\\\n",
       "\t5 & 62 & 126\\\\\n",
       "\t6 & 63 & 129\\\\\n",
       "\\end{tabular}\n"
      ],
      "text/plain": [
       "  height weight\n",
       "1     58    115\n",
       "2     59    117\n",
       "3     60    120\n",
       "4     61    123\n",
       "5     62    126\n",
       "6     63    129"
      ]
     },
     "execution_count": 130,
     "metadata": {},
     "output_type": "execute_result"
    }
   ],
   "source": [
    "head(women)"
   ]
  },
  {
   "cell_type": "code",
   "execution_count": 138,
   "metadata": {
    "collapsed": false
   },
   "outputs": [
    {
     "data": {
      "text/plain": [
       "\n",
       "Call:\n",
       "lm(formula = height ~ weight, data = women)\n",
       "\n",
       "Residuals:\n",
       "     Min       1Q   Median       3Q      Max \n",
       "-0.83233 -0.26249  0.08314  0.34353  0.49790 \n",
       "\n",
       "Coefficients:\n",
       "             Estimate Std. Error t value Pr(>|t|)    \n",
       "(Intercept) 25.723456   1.043746   24.64 2.68e-12 ***\n",
       "weight       0.287249   0.007588   37.85 1.09e-14 ***\n",
       "---\n",
       "Signif. codes:  0 '***' 0.001 '**' 0.01 '*' 0.05 '.' 0.1 ' ' 1\n",
       "\n",
       "Residual standard error: 0.44 on 13 degrees of freedom\n",
       "Multiple R-squared:  0.991,\tAdjusted R-squared:  0.9903 \n",
       "F-statistic:  1433 on 1 and 13 DF,  p-value: 1.091e-14\n"
      ]
     },
     "execution_count": 138,
     "metadata": {},
     "output_type": "execute_result"
    }
   ],
   "source": [
    "model <- lm(height~weight, data=women)\n",
    "summary(model)"
   ]
  },
  {
   "cell_type": "code",
   "execution_count": 145,
   "metadata": {
    "collapsed": false
   },
   "outputs": [
    {
     "data": {
      "image/png": "[encoded data removed]",
      "text/plain": [
       "Plot with title \"\""
      ]
     },
     "metadata": {
      "image/svg+xml": {
       "isolated": true
      }
     },
     "output_type": "display_data"
    },
    {
     "data": {
      "image/png": "[encoded data removed]",
      "text/plain": [
       "Plot with title \"\""
      ]
     },
     "metadata": {
      "image/svg+xml": {
       "isolated": true
      }
     },
     "output_type": "display_data"
    },
    {
     "data": {
      "image/png": "[encoded data removed]",
      "text/plain": [
       "Plot with title \"\""
      ]
     },
     "metadata": {
      "image/svg+xml": {
       "isolated": true
      }
     },
     "output_type": "display_data"
    },
    {
     "data": {
      "image/png": "[encoded data removed]",
      "text/plain": [
       "Plot with title \"\""
      ]
     },
     "metadata": {
      "image/svg+xml": {
       "isolated": true
      }
     },
     "output_type": "display_data"
    }
   ],
   "source": [
    "plot(model)"
   ]
  },
  {
   "cell_type": "code",
   "execution_count": 141,
   "metadata": {
    "collapsed": false
   },
   "outputs": [
    {
     "data": {
      "text/plain": [
       "   Min. 1st Qu.  Median    Mean 3rd Qu.    Max. \n",
       "   58.0    61.5    65.0    65.0    68.5    72.0 "
      ]
     },
     "execution_count": 141,
     "metadata": {},
     "output_type": "execute_result"
    }
   ],
   "source": [
    "summary(women$height)"
   ]
  },
  {
   "cell_type": "code",
   "execution_count": 142,
   "metadata": {
    "collapsed": false
   },
   "outputs": [
    {
     "data": {
      "text/plain": [
       "   Min. 1st Qu.  Median    Mean 3rd Qu.    Max. \n",
       "  115.0   124.5   135.0   136.7   148.0   164.0 "
      ]
     },
     "execution_count": 142,
     "metadata": {},
     "output_type": "execute_result"
    }
   ],
   "source": [
    "summary(women$weight)"
   ]
  },
  {
   "cell_type": "code",
   "execution_count": null,
   "metadata": {
    "collapsed": true
   },
   "outputs": [],
   "source": []
  }
 ],
 "metadata": {
  "kernelspec": {
   "display_name": "R",
   "language": "R",
   "name": "ir"
  },
  "language_info": {
   "codemirror_mode": "r",
   "file_extension": ".r",
   "mimetype": "text/x-r-source",
   "name": "R",
   "pygments_lexer": "r",
   "version": "3.1.3"
  }
 },
 "nbformat": 4,
 "nbformat_minor": 0
}
