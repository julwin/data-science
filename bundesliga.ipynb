{
 "cells": [
  {
   "cell_type": "markdown",
   "metadata": {},
   "source": [
    "## Loading packages"
   ]
  },
  {
   "cell_type": "code",
   "execution_count": 1,
   "metadata": {
    "collapsed": false
   },
   "outputs": [
    {
     "name": "stdout",
     "output_type": "stream",
     "text": [
      "package 'plotly' successfully unpacked and MD5 sums checked\n",
      "\n",
      "The downloaded binary packages are in\n",
      "\tC:\\Users\\data science\\AppData\\Local\\Temp\\RtmpofUGq1\\downloaded_packages\n",
      "package 'doParallel' successfully unpacked and MD5 sums checked\n",
      "\n",
      "The downloaded binary packages are in\n",
      "\tC:\\Users\\data science\\AppData\\Local\\Temp\\RtmpofUGq1\\downloaded_packages\n",
      "package 'caret' successfully unpacked and MD5 sums checked\n",
      "\n",
      "The downloaded binary packages are in\n",
      "\tC:\\Users\\data science\\AppData\\Local\\Temp\\RtmpofUGq1\\downloaded_packages\n",
      "package 'randomForest' successfully unpacked and MD5 sums checked\n",
      "\n",
      "The downloaded binary packages are in\n",
      "\tC:\\Users\\data science\\AppData\\Local\\Temp\\RtmpofUGq1\\downloaded_packages\n",
      "package 'lubridate' successfully unpacked and MD5 sums checked\n",
      "\n",
      "The downloaded binary packages are in\n",
      "\tC:\\Users\\data science\\AppData\\Local\\Temp\\RtmpofUGq1\\downloaded_packages\n",
      "package 'e1071' successfully unpacked and MD5 sums checked\n",
      "\n",
      "The downloaded binary packages are in\n",
      "\tC:\\Users\\data science\\AppData\\Local\\Temp\\RtmpofUGq1\\downloaded_packages\n",
      "package 'gbm' successfully unpacked and MD5 sums checked\n",
      "\n",
      "The downloaded binary packages are in\n",
      "\tC:\\Users\\data science\\AppData\\Local\\Temp\\RtmpofUGq1\\downloaded_packages\n"
     ]
    }
   ],
   "source": [
    "install.packages(\"plotly\", repos=\"http://cran.rstudio.com/\")\n",
    "install.packages(\"doParallel\", repos=\"http://cran.rstudio.com/\")\n",
    "install.packages(\"caret\", repos=\"http://cran.rstudio.com/\")\n",
    "install.packages(\"randomForest\", repos=\"http://cran.rstudio.com/\")\n",
    "install.packages(\"lubridate\", repos=\"http://cran.rstudio.com/\")\n",
    "install.packages('e1071', dependencies=TRUE,repos=\"http://cran.rstudio.com/\" )\n",
    "install.packages('gbm', dependencies=TRUE,repos=\"http://cran.rstudio.com/\" )"
   ]
  },
  {
   "cell_type": "code",
   "execution_count": 2,
   "metadata": {
    "collapsed": false
   },
   "outputs": [
    {
     "name": "stderr",
     "output_type": "stream",
     "text": [
      "Loading required package: ggplot2\n",
      "\n",
      "Attaching package: 'plotly'\n",
      "\n",
      "The following object is masked from 'package:ggplot2':\n",
      "\n",
      "    last_plot\n",
      "\n",
      "The following object is masked from 'package:graphics':\n",
      "\n",
      "    layout\n",
      "\n"
     ]
    }
   ],
   "source": [
    "library(plotly)"
   ]
  },
  {
   "cell_type": "markdown",
   "metadata": {},
   "source": [
    "## Loading data"
   ]
  },
  {
   "cell_type": "code",
   "execution_count": 3,
   "metadata": {
    "collapsed": false
   },
   "outputs": [],
   "source": [
    "allgames <- data.frame(read.csv(\"bundesliga ges.csv\", sep=\";\"))\n",
    "# Source: http://www.football-data.co.uk/data.php\n",
    "# http://api.football-data.org/documentation\n",
    "# https://github.com/openfootball/de-deutschland/tree/master/2015-16\n",
    "# https://de.wikipedia.org/wiki/Fu%C3%9Fball-Bundesliga_2015/16\n",
    "# http://www.bundesliga.de/de/liga/tabelle/"
   ]
  },
  {
   "cell_type": "code",
   "execution_count": 4,
   "metadata": {
    "collapsed": false
   },
   "outputs": [
    {
     "name": "stdout",
     "output_type": "stream",
     "text": [
      "'data.frame':\t1197 obs. of  20 variables:\n",
      " $ Match_Date           : Factor w/ 370 levels \"01.02.2013\",\"01.02.2014\",..: 279 279 263 263 263 263 263 263 249 184 ...\n",
      " $ HomeTeam             : Factor w/ 24 levels \" FSV MAINZ 05\",..: 9 6 12 19 11 13 22 23 17 7 ...\n",
      " $ AwayTeam             : Factor w/ 24 levels \" FSV MAINZ 05\",..: 1 3 2 5 18 4 7 10 24 17 ...\n",
      " $ Home_Goals           : num  2 3 4 0 2 2 0 0 2 3 ...\n",
      " $ Away_Goals           : num  1 1 1 2 2 3 3 2 1 0 ...\n",
      " $ Halftime_Home_Goals  : num  1 2 2 0 2 2 0 0 2 2 ...\n",
      " $ Halftime_Away_Goals  : num  1 0 1 0 0 0 2 1 0 0 ...\n",
      " $ Halftime_Result      : Factor w/ 3 levels \"A\",\"D\",\"H\": 2 3 3 2 3 3 1 1 3 3 ...\n",
      " $ Hometeam_Shots       : num  8 24 15 9 8 20 8 19 12 14 ...\n",
      " $ Awayteam_Shots       : num  7 14 15 6 14 16 16 8 21 5 ...\n",
      " $ Hometeam_Shots_Target: num  4 11 9 0 3 8 1 7 7 5 ...\n",
      " $ Awayteam_Shots_Target: num  4 8 2 6 4 6 9 4 10 1 ...\n",
      " $ Hometeam_Fouls       : num  22 14 15 9 10 19 19 7 22 6 ...\n",
      " $ Awayteam_Fouls       : num  23 11 17 17 13 16 10 19 11 16 ...\n",
      " $ Hometeam_Corners     : num  5 12 3 1 2 6 3 6 5 10 ...\n",
      " $ Awayteam_Corners     : num  2 3 6 3 7 4 4 1 4 0 ...\n",
      " $ Hometeam_Yellowcards : num  4 1 2 0 2 3 0 0 3 0 ...\n",
      " $ Awayteam_Yellowcards : num  4 2 2 4 2 3 1 2 4 0 ...\n",
      " $ Hometeam_Redcards    : num  0 0 0 0 1 0 0 0 0 0 ...\n",
      " $ Awayteam_Redcards    : num  0 0 0 0 0 0 0 0 0 1 ...\n"
     ]
    }
   ],
   "source": [
    "str(allgames)"
   ]
  },
  {
   "cell_type": "markdown",
   "metadata": {},
   "source": [
    "## Preprocessing"
   ]
  },
  {
   "cell_type": "code",
   "execution_count": 5,
   "metadata": {
    "collapsed": true
   },
   "outputs": [],
   "source": [
    "allgames$Halftime_Result <- NULL"
   ]
  },
  {
   "cell_type": "code",
   "execution_count": 6,
   "metadata": {
    "collapsed": false
   },
   "outputs": [],
   "source": [
    "outcome <- NULL\n",
    "for(i in 1:nrow(allgames)){\n",
    "    diff <- as.numeric(allgames$Home_Goals[i])-as.numeric(allgames$Away_Goals[i])\n",
    "    if(diff>0){\n",
    "        outcome[i]<-\"win\"\n",
    "    } else if(diff<0){\n",
    "        outcome[i]<-\"loose\"\n",
    "    } else{\n",
    "        outcome[i]<-\"tie\"\n",
    "    }\n",
    "}"
   ]
  },
  {
   "cell_type": "code",
   "execution_count": 7,
   "metadata": {
    "collapsed": false
   },
   "outputs": [],
   "source": [
    "# Create date vector and compute linear weights\n",
    "dates <- as.Date(allgames$Match_Date, format=\"%d.%m.%Y\")\n",
    "numDates <- as.numeric(dates[order(dates)])\n",
    "weights <- (numDates-min(numDates))/(max(numDates)-min(numDates))"
   ]
  },
  {
   "cell_type": "code",
   "execution_count": 8,
   "metadata": {
    "collapsed": false,
    "scrolled": true
   },
   "outputs": [],
   "source": [
    "allgames[\"Match_Date\"]<-dates"
   ]
  },
  {
   "cell_type": "code",
   "execution_count": 9,
   "metadata": {
    "collapsed": false
   },
   "outputs": [
    {
     "name": "stderr",
     "output_type": "stream",
     "text": [
      "\n",
      "Attaching package: 'lubridate'\n",
      "\n",
      "The following object is masked from 'package:base':\n",
      "\n",
      "    date\n",
      "\n"
     ]
    }
   ],
   "source": [
    "library(lubridate)\n",
    "month <-month(allgames$Match_Date)\n",
    "year <- year(allgames$Match_Date)\n",
    "allgames$month<-month\n",
    "allgames$year<- year"
   ]
  },
  {
   "cell_type": "code",
   "execution_count": 10,
   "metadata": {
    "collapsed": false
   },
   "outputs": [
    {
     "data": {
      "text/html": [
       "1197"
      ],
      "text/latex": [
       "1197"
      ],
      "text/markdown": [
       "1197"
      ],
      "text/plain": [
       "[1] 1197"
      ]
     },
     "execution_count": 10,
     "metadata": {},
     "output_type": "execute_result"
    }
   ],
   "source": [
    "length(outcome)\n",
    "allgames[\"Outcome\"] <- factor(outcome)"
   ]
  },
  {
   "cell_type": "code",
   "execution_count": 11,
   "metadata": {
    "collapsed": false
   },
   "outputs": [
    {
     "data": {
      "text/html": [
       "<ol class=list-inline>\n",
       "\t<li>1197</li>\n",
       "\t<li>22</li>\n",
       "</ol>\n"
      ],
      "text/latex": [
       "\\begin{enumerate*}\n",
       "\\item 1197\n",
       "\\item 22\n",
       "\\end{enumerate*}\n"
      ],
      "text/markdown": [
       "1. 1197\n",
       "2. 22\n",
       "\n",
       "\n"
      ],
      "text/plain": [
       "[1] 1197   22"
      ]
     },
     "execution_count": 11,
     "metadata": {},
     "output_type": "execute_result"
    }
   ],
   "source": [
    "dim(allgames)"
   ]
  },
  {
   "cell_type": "code",
   "execution_count": 12,
   "metadata": {
    "collapsed": true
   },
   "outputs": [],
   "source": [
    "allgames$month <- factor(allgames$month)\n",
    "allgames$year <- factor(allgames$year)"
   ]
  },
  {
   "cell_type": "code",
   "execution_count": 13,
   "metadata": {
    "collapsed": false,
    "scrolled": true
   },
   "outputs": [
    {
     "data": {
      "text/html": [
       "<table>\n",
       "<thead><tr><th></th><th scope=col>Outcome</th><th scope=col>Match_Date</th><th scope=col>HomeTeam</th><th scope=col>AwayTeam</th><th scope=col>Home_Goals</th><th scope=col>Away_Goals</th><th scope=col>Halftime_Home_Goals</th><th scope=col>Halftime_Away_Goals</th><th scope=col>Hometeam_Shots</th><th scope=col>Awayteam_Shots</th><th scope=col>Hometeam_Shots_Target</th><th scope=col>Awayteam_Shots_Target</th><th scope=col>Hometeam_Fouls</th><th scope=col>Awayteam_Fouls</th><th scope=col>Hometeam_Corners</th><th scope=col>Awayteam_Corners</th><th scope=col>Hometeam_Yellowcards</th><th scope=col>Awayteam_Yellowcards</th><th scope=col>Hometeam_Redcards</th><th scope=col>Awayteam_Redcards</th><th scope=col>month</th><th scope=col>year</th></tr></thead>\n",
       "<tbody>\n",
       "\t<tr><th scope=row>1</th><td>win</td><td>2016-04-24</td><td>EINTRACHT FRANKFURT</td><td> FSV MAINZ 05</td><td>2</td><td>1</td><td>1</td><td>1</td><td>8</td><td>7</td><td>4</td><td>4</td><td>22</td><td>23</td><td>5</td><td>2</td><td>4</td><td>4</td><td>0</td><td>0</td><td>4</td><td>2016</td></tr>\n",
       "\t<tr><th scope=row>2</th><td>win</td><td>2016-04-24</td><td>BOR. MONCHENGLADBACH</td><td>1899 HOFFENHEIM</td><td>3</td><td>1</td><td>2</td><td>0</td><td>24</td><td>14</td><td>11</td><td>8</td><td>14</td><td>11</td><td>12</td><td>3</td><td>1</td><td>2</td><td>0</td><td>0</td><td>4</td><td>2016</td></tr>\n",
       "\t<tr><th scope=row>3</th><td>win</td><td>2016-04-23</td><td>FC KOLN</td><td> SV DARMSTADT 98</td><td>4</td><td>1</td><td>2</td><td>1</td><td>15</td><td>15</td><td>9</td><td>2</td><td>15</td><td>17</td><td>3</td><td>6</td><td>2</td><td>2</td><td>0</td><td>0</td><td>4</td><td>2016</td></tr>\n",
       "\t<tr><th scope=row>4</th><td>loose</td><td>2016-04-23</td><td>HERTHA BERLIN</td><td>BAYERN MUNICH</td><td>0</td><td>2</td><td>0</td><td>0</td><td>9</td><td>6</td><td>0</td><td>6</td><td>9</td><td>17</td><td>1</td><td>3</td><td>0</td><td>4</td><td>0</td><td>0</td><td>4</td><td>2016</td></tr>\n",
       "\t<tr><th scope=row>5</th><td>tie</td><td>2016-04-23</td><td>FC INGOLSTADT 04</td><td>HANNOVER 96</td><td>2</td><td>2</td><td>2</td><td>0</td><td>8</td><td>14</td><td>3</td><td>4</td><td>10</td><td>13</td><td>2</td><td>7</td><td>2</td><td>2</td><td>1</td><td>0</td><td>4</td><td>2016</td></tr>\n",
       "\t<tr><th scope=row>6</th><td>loose</td><td>2016-04-23</td><td>FC SCHALKE 04</td><td>BAYER LEVERKUSEN</td><td>2</td><td>3</td><td>2</td><td>0</td><td>20</td><td>16</td><td>8</td><td>6</td><td>19</td><td>16</td><td>6</td><td>4</td><td>3</td><td>3</td><td>0</td><td>0</td><td>4</td><td>2016</td></tr>\n",
       "</tbody>\n",
       "</table>\n"
      ],
      "text/latex": [
       "\\begin{tabular}{r|llllllllllllllllllllll}\n",
       "  & Outcome & Match_Date & HomeTeam & AwayTeam & Home_Goals & Away_Goals & Halftime_Home_Goals & Halftime_Away_Goals & Hometeam_Shots & Awayteam_Shots & Hometeam_Shots_Target & Awayteam_Shots_Target & Hometeam_Fouls & Awayteam_Fouls & Hometeam_Corners & Awayteam_Corners & Hometeam_Yellowcards & Awayteam_Yellowcards & Hometeam_Redcards & Awayteam_Redcards & month & year\\\\\n",
       "\\hline\n",
       "\t1 & win & 2016-04-24 & EINTRACHT FRANKFURT &  FSV MAINZ 05 & 2 & 1 & 1 & 1 & 8 & 7 & 4 & 4 & 22 & 23 & 5 & 2 & 4 & 4 & 0 & 0 & 4 & 2016\\\\\n",
       "\t2 & win & 2016-04-24 & BOR. MONCHENGLADBACH & 1899 HOFFENHEIM & 3 & 1 & 2 & 0 & 24 & 14 & 11 & 8 & 14 & 11 & 12 & 3 & 1 & 2 & 0 & 0 & 4 & 2016\\\\\n",
       "\t3 & win & 2016-04-23 & FC KOLN &  SV DARMSTADT 98 & 4 & 1 & 2 & 1 & 15 & 15 & 9 & 2 & 15 & 17 & 3 & 6 & 2 & 2 & 0 & 0 & 4 & 2016\\\\\n",
       "\t4 & loose & 2016-04-23 & HERTHA BERLIN & BAYERN MUNICH & 0 & 2 & 0 & 0 & 9 & 6 & 0 & 6 & 9 & 17 & 1 & 3 & 0 & 4 & 0 & 0 & 4 & 2016\\\\\n",
       "\t5 & tie & 2016-04-23 & FC INGOLSTADT 04 & HANNOVER 96 & 2 & 2 & 2 & 0 & 8 & 14 & 3 & 4 & 10 & 13 & 2 & 7 & 2 & 2 & 1 & 0 & 4 & 2016\\\\\n",
       "\t6 & loose & 2016-04-23 & FC SCHALKE 04 & BAYER LEVERKUSEN & 2 & 3 & 2 & 0 & 20 & 16 & 8 & 6 & 19 & 16 & 6 & 4 & 3 & 3 & 0 & 0 & 4 & 2016\\\\\n",
       "\\end{tabular}\n"
      ],
      "text/plain": [
       "  Outcome Match_Date             HomeTeam         AwayTeam Home_Goals\n",
       "1     win 2016-04-24  EINTRACHT FRANKFURT     FSV MAINZ 05          2\n",
       "2     win 2016-04-24 BOR. MONCHENGLADBACH  1899 HOFFENHEIM          3\n",
       "3     win 2016-04-23              FC KOLN  SV DARMSTADT 98          4\n",
       "4   loose 2016-04-23        HERTHA BERLIN    BAYERN MUNICH          0\n",
       "5     tie 2016-04-23     FC INGOLSTADT 04      HANNOVER 96          2\n",
       "6   loose 2016-04-23        FC SCHALKE 04 BAYER LEVERKUSEN          2\n",
       "  Away_Goals Halftime_Home_Goals Halftime_Away_Goals Hometeam_Shots\n",
       "1          1                   1                   1              8\n",
       "2          1                   2                   0             24\n",
       "3          1                   2                   1             15\n",
       "4          2                   0                   0              9\n",
       "5          2                   2                   0              8\n",
       "6          3                   2                   0             20\n",
       "  Awayteam_Shots Hometeam_Shots_Target Awayteam_Shots_Target Hometeam_Fouls\n",
       "1              7                     4                     4             22\n",
       "2             14                    11                     8             14\n",
       "3             15                     9                     2             15\n",
       "4              6                     0                     6              9\n",
       "5             14                     3                     4             10\n",
       "6             16                     8                     6             19\n",
       "  Awayteam_Fouls Hometeam_Corners Awayteam_Corners Hometeam_Yellowcards\n",
       "1             23                5                2                    4\n",
       "2             11               12                3                    1\n",
       "3             17                3                6                    2\n",
       "4             17                1                3                    0\n",
       "5             13                2                7                    2\n",
       "6             16                6                4                    3\n",
       "  Awayteam_Yellowcards Hometeam_Redcards Awayteam_Redcards month year\n",
       "1                    4                 0                 0     4 2016\n",
       "2                    2                 0                 0     4 2016\n",
       "3                    2                 0                 0     4 2016\n",
       "4                    4                 0                 0     4 2016\n",
       "5                    2                 1                 0     4 2016\n",
       "6                    3                 0                 0     4 2016"
      ]
     },
     "execution_count": 13,
     "metadata": {},
     "output_type": "execute_result"
    },
    {
     "data": {
      "text/html": [
       "<ol class=list-inline>\n",
       "\t<li>1197</li>\n",
       "\t<li>22</li>\n",
       "</ol>\n"
      ],
      "text/latex": [
       "\\begin{enumerate*}\n",
       "\\item 1197\n",
       "\\item 22\n",
       "\\end{enumerate*}\n"
      ],
      "text/markdown": [
       "1. 1197\n",
       "2. 22\n",
       "\n",
       "\n"
      ],
      "text/plain": [
       "[1] 1197   22"
      ]
     },
     "execution_count": 13,
     "metadata": {},
     "output_type": "execute_result"
    }
   ],
   "source": [
    "allgames <- na.omit(allgames)\n",
    "allgames <- allgames[c(22,1,2,3,4,5,6,7,8,9,10,11,12,13,14,15,16,17,18,19,20,21)]\n",
    "head(allgames)\n",
    "dim(allgames)"
   ]
  },
  {
   "cell_type": "code",
   "execution_count": 14,
   "metadata": {
    "collapsed": false
   },
   "outputs": [],
   "source": [
    "data <- allgames"
   ]
  },
  {
   "cell_type": "code",
   "execution_count": 15,
   "metadata": {
    "collapsed": false
   },
   "outputs": [
    {
     "data": {
      "text/html": [
       "<ol class=list-inline>\n",
       "\t<li>1197</li>\n",
       "\t<li>22</li>\n",
       "</ol>\n"
      ],
      "text/latex": [
       "\\begin{enumerate*}\n",
       "\\item 1197\n",
       "\\item 22\n",
       "\\end{enumerate*}\n"
      ],
      "text/markdown": [
       "1. 1197\n",
       "2. 22\n",
       "\n",
       "\n"
      ],
      "text/plain": [
       "[1] 1197   22"
      ]
     },
     "execution_count": 15,
     "metadata": {},
     "output_type": "execute_result"
    }
   ],
   "source": [
    "dim(data)"
   ]
  },
  {
   "cell_type": "markdown",
   "metadata": {},
   "source": [
    "## Learning and validating the model"
   ]
  },
  {
   "cell_type": "code",
   "execution_count": 105,
   "metadata": {
    "collapsed": false
   },
   "outputs": [],
   "source": [
    "#create training and test set\n",
    "testIndex <- seq(1,nrow(data),2)\n",
    "train <- na.omit(allgames[-testIndex,])\n",
    "test <- na.omit(data[testIndex,])"
   ]
  },
  {
   "cell_type": "code",
   "execution_count": 19,
   "metadata": {
    "collapsed": false
   },
   "outputs": [
    {
     "data": {
      "text/html": [
       "<ol class=list-inline>\n",
       "\t<li>598</li>\n",
       "\t<li>22</li>\n",
       "</ol>\n"
      ],
      "text/latex": [
       "\\begin{enumerate*}\n",
       "\\item 598\n",
       "\\item 22\n",
       "\\end{enumerate*}\n"
      ],
      "text/markdown": [
       "1. 598\n",
       "2. 22\n",
       "\n",
       "\n"
      ],
      "text/plain": [
       "[1] 598  22"
      ]
     },
     "execution_count": 19,
     "metadata": {},
     "output_type": "execute_result"
    }
   ],
   "source": [
    "dim(train)"
   ]
  },
  {
   "cell_type": "code",
   "execution_count": 20,
   "metadata": {
    "collapsed": false,
    "scrolled": true
   },
   "outputs": [
    {
     "name": "stderr",
     "output_type": "stream",
     "text": [
      "Loading required package: foreach\n",
      "Loading required package: iterators\n",
      "Loading required package: parallel\n"
     ]
    }
   ],
   "source": [
    "# Train classifiers\n",
    "library(doParallel)\n",
    "cl<- makeCluster(8)\n",
    "registerDoParallel(cl)"
   ]
  },
  {
   "cell_type": "code",
   "execution_count": 21,
   "metadata": {
    "collapsed": false
   },
   "outputs": [
    {
     "name": "stderr",
     "output_type": "stream",
     "text": [
      "Loading required package: lattice\n",
      "randomForest 4.6-12\n",
      "Type rfNews() to see new features/changes/bug fixes.\n",
      "\n",
      "Attaching package: 'randomForest'\n",
      "\n",
      "The following object is masked from 'package:ggplot2':\n",
      "\n",
      "    margin\n",
      "\n"
     ]
    }
   ],
   "source": [
    "# Load Libraries\n",
    "library(caret)\n",
    "library(randomForest)"
   ]
  },
  {
   "cell_type": "code",
   "execution_count": 22,
   "metadata": {
    "collapsed": true
   },
   "outputs": [],
   "source": [
    "# Model tuning grids RF\n",
    "#rfGrid <- expand.grid(mtry=c(1,7,14,27,37,40,53))\n"
   ]
  },
  {
   "cell_type": "code",
   "execution_count": 23,
   "metadata": {
    "collapsed": true
   },
   "outputs": [],
   "source": [
    "# GBM tuning grid\n",
    "gbmGrid<- expand.grid(interaction.depth=c(1,5,9),\n",
    "                     n.trees=(1:30)*50,\n",
    "                     shrinkage=0.1,\n",
    "                     n.minobsinnode=20)"
   ]
  },
  {
   "cell_type": "code",
   "execution_count": 24,
   "metadata": {
    "collapsed": true
   },
   "outputs": [],
   "source": [
    "# Tune using 5-fold cross-validation\n",
    "fitControl <- trainControl(method=\"repeatedcv\",\n",
    "                         number=10,\n",
    "                         repeats=10)"
   ]
  },
  {
   "cell_type": "code",
   "execution_count": 25,
   "metadata": {
    "collapsed": false
   },
   "outputs": [
    {
     "name": "stderr",
     "output_type": "stream",
     "text": [
      "Loading required package: survival\n",
      "\n",
      "Attaching package: 'survival'\n",
      "\n",
      "The following object is masked from 'package:caret':\n",
      "\n",
      "    cluster\n",
      "\n",
      "Loading required package: splines\n",
      "Loaded gbm 2.1.1\n",
      "Loading required package: plyr\n",
      "\n",
      "Attaching package: 'plyr'\n",
      "\n",
      "The following object is masked from 'package:lubridate':\n",
      "\n",
      "    here\n",
      "\n"
     ]
    }
   ],
   "source": [
    "# fitting gbm\n",
    "library(gbm)\n",
    "gbmFit1 <- train(Outcome~., data=train,\n",
    "                method=\"gbm\",\n",
    "                trControl = fitControl,\n",
    "                verbose=FALSE,\n",
    "                tuneGrid = gbmGrid)"
   ]
  },
  {
   "cell_type": "code",
   "execution_count": 26,
   "metadata": {
    "collapsed": false,
    "scrolled": true
   },
   "outputs": [
    {
     "data": {
      "text/plain": [
       "Stochastic Gradient Boosting \n",
       "\n",
       "598 samples\n",
       " 21 predictor\n",
       "  3 classes: 'loose', 'tie', 'win' \n",
       "\n",
       "No pre-processing\n",
       "Resampling: Cross-Validated (10 fold, repeated 10 times) \n",
       "Summary of sample sizes: 538, 537, 539, 538, 539, 538, ... \n",
       "Resampling results across tuning parameters:\n",
       "\n",
       "  interaction.depth  n.trees  Accuracy   Kappa    \n",
       "  1                    50     0.9156208  0.8672737\n",
       "  1                   100     0.9438249  0.9119390\n",
       "  1                   150     0.9591938  0.9362791\n",
       "  1                   200     0.9680676  0.9502645\n",
       "  1                   250     0.9732546  0.9584200\n",
       "  1                   300     0.9754214  0.9618103\n",
       "  1                   350     0.9777719  0.9654584\n",
       "  1                   400     0.9784277  0.9664900\n",
       "  1                   450     0.9792695  0.9677958\n",
       "  1                   500     0.9791056  0.9675385\n",
       "  1                   550     0.9802779  0.9693691\n",
       "  1                   600     0.9797722  0.9685689\n",
       "  1                   650     0.9819530  0.9719522\n",
       "  1                   700     0.9817837  0.9716954\n",
       "  1                   750     0.9819448  0.9719569\n",
       "  1                   800     0.9816088  0.9714214\n",
       "  1                   850     0.9837811  0.9747994\n",
       "  1                   900     0.9834506  0.9742951\n",
       "  1                   950     0.9827866  0.9732713\n",
       "  1                  1000     0.9829589  0.9735342\n",
       "  1                  1050     0.9834590  0.9743144\n",
       "  1                  1100     0.9837867  0.9748148\n",
       "  1                  1150     0.9839424  0.9750565\n",
       "  1                  1200     0.9844506  0.9758537\n",
       "  1                  1250     0.9834533  0.9743038\n",
       "  1                  1300     0.9842814  0.9755807\n",
       "  1                  1350     0.9827700  0.9732441\n",
       "  1                  1400     0.9836092  0.9745440\n",
       "  1                  1450     0.9836202  0.9745622\n",
       "  1                  1500     0.9841230  0.9753465\n",
       "  5                    50     0.9836005  0.9745347\n",
       "  5                   100     0.9844589  0.9758723\n",
       "  5                   150     0.9852924  0.9771698\n",
       "  5                   200     0.9859480  0.9781900\n",
       "  5                   250     0.9856340  0.9776999\n",
       "  5                   300     0.9851283  0.9769210\n",
       "  5                   350     0.9851285  0.9769162\n",
       "  5                   400     0.9852980  0.9771764\n",
       "  5                   450     0.9856230  0.9776780\n",
       "  5                   500     0.9857869  0.9779307\n",
       "  5                   550     0.9849507  0.9766307\n",
       "  5                   600     0.9859563  0.9781923\n",
       "  5                   650     0.9849534  0.9766375\n",
       "  5                   700     0.9851256  0.9769116\n",
       "  5                   750     0.9846256  0.9761278\n",
       "  5                   800     0.9846255  0.9761285\n",
       "  5                   850     0.9846201  0.9761177\n",
       "  5                   900     0.9849618  0.9766571\n",
       "  5                   950     0.9851286  0.9769142\n",
       "  5                  1000     0.9849591  0.9766512\n",
       "  5                  1050     0.9854620  0.9774307\n",
       "  5                  1100     0.9852925  0.9771657\n",
       "  5                  1150     0.9847980  0.9764034\n",
       "  5                  1200     0.9851286  0.9769132\n",
       "  5                  1250     0.9852925  0.9771686\n",
       "  5                  1300     0.9852897  0.9771632\n",
       "  5                  1350     0.9847897  0.9763909\n",
       "  5                  1400     0.9846313  0.9761450\n",
       "  5                  1450     0.9847980  0.9764024\n",
       "  5                  1500     0.9847980  0.9764024\n",
       "  9                    50     0.9839560  0.9750801\n",
       "  9                   100     0.9852980  0.9771830\n",
       "  9                   150     0.9837867  0.9748435\n",
       "  9                   200     0.9817835  0.9717300\n",
       "  9                   250     0.9809388  0.9704131\n",
       "  9                   300     0.9801109  0.9691409\n",
       "  9                   350     0.9787719  0.9670541\n",
       "  9                   400     0.9776079  0.9652560\n",
       "  9                   450     0.9772660  0.9647149\n",
       "  9                   500     0.9760995  0.9628977\n",
       "  9                   550     0.9752660  0.9616037\n",
       "  9                   600     0.9732491  0.9584567\n",
       "  9                   650     0.9730711  0.9581687\n",
       "  9                   700     0.9708790  0.9547533\n",
       "  9                   750     0.9695427  0.9526737\n",
       "  9                   800     0.9692066  0.9521490\n",
       "  9                   850     0.9673757  0.9493017\n",
       "  9                   900     0.9660478  0.9472288\n",
       "  9                   950     0.9652172  0.9459195\n",
       "  9                  1000     0.9647114  0.9451320\n",
       "  9                  1050     0.9630335  0.9425143\n",
       "  9                  1100     0.9625361  0.9417457\n",
       "  9                  1150     0.9618695  0.9407151\n",
       "  9                  1200     0.9607082  0.9389084\n",
       "  9                  1250     0.9597135  0.9373832\n",
       "  9                  1300     0.9593802  0.9368802\n",
       "  9                  1350     0.9593745  0.9368738\n",
       "  9                  1400     0.9590440  0.9363643\n",
       "  9                  1450     0.9588774  0.9361114\n",
       "  9                  1500     0.9588857  0.9361304\n",
       "\n",
       "Tuning parameter 'shrinkage' was held constant at a value of 0.1\n",
       "\n",
       "Tuning parameter 'n.minobsinnode' was held constant at a value of 20\n",
       "Accuracy was used to select the optimal model using  the largest value.\n",
       "The final values used for the model were n.trees = 600, interaction.depth =\n",
       " 5, shrinkage = 0.1 and n.minobsinnode = 20. "
      ]
     },
     "execution_count": 26,
     "metadata": {},
     "output_type": "execute_result"
    },
    {
     "data": {
      "image/png": "[encoded data removed]",
      "text/plain": [
       "plot without title"
      ]
     },
     "metadata": {
      "image/svg+xml": {
       "isolated": true
      }
     },
     "output_type": "display_data"
    }
   ],
   "source": [
    "gbmFit1\n",
    "trellis.par.set(caretTheme())\n",
    "plot(gbmFit1, metric = \"Kappa\")"
   ]
  },
  {
   "cell_type": "markdown",
   "metadata": {
    "collapsed": false
   },
   "source": [
    "# Random Forests\n",
    "library(e1071)\n",
    "start.time <-Sys.time()\n",
    "set.seed(2)\n",
    "rf <- train(x=train[,-2],\n",
    "            y=as.factor(train[,2]),\n",
    "            method=\"rf\",\n",
    "            ntree=200,\n",
    "           trContrl=fitControl,\n",
    "           tuneGrid=rfGrid,\n",
    "           importance=TRUE)\n",
    "end.time<-Sys.time()\n",
    "time.taken.rf <-end.time - start.time"
   ]
  },
  {
   "cell_type": "code",
   "execution_count": 22,
   "metadata": {
    "collapsed": false
   },
   "outputs": [
    {
     "data": {
      "text/html": [
       "<table>\n",
       "<thead><tr><th></th><th scope=col>year</th><th scope=col>Match_Date</th><th scope=col>HomeTeam</th><th scope=col>AwayTeam</th><th scope=col>Home_Goals</th><th scope=col>Away_Goals</th><th scope=col>Halftime_Home_Goals</th><th scope=col>Halftime_Away_Goals</th><th scope=col>Hometeam_Shots</th><th scope=col>Awayteam_Shots</th><th scope=col>Hometeam_Shots_Target</th><th scope=col>Awayteam_Shots_Target</th><th scope=col>Hometeam_Fouls</th><th scope=col>Awayteam_Fouls</th><th scope=col>Hometeam_Corners</th><th scope=col>Awayteam_Corners</th><th scope=col>Hometeam_Yellowcards</th><th scope=col>Awayteam_Yellowcards</th><th scope=col>Hometeam_Redcards</th><th scope=col>Awayteam_Redcards</th><th scope=col>month</th></tr></thead>\n",
       "<tbody>\n",
       "\t<tr><th scope=row>1</th><td>2016</td><td>2016-04-24</td><td>EINTRACHT FRANKFURT</td><td> FSV MAINZ 05</td><td>2</td><td>1</td><td>1</td><td>1</td><td>8</td><td>7</td><td>4</td><td>4</td><td>22</td><td>23</td><td>5</td><td>2</td><td>4</td><td>4</td><td>0</td><td>0</td><td>4</td></tr>\n",
       "\t<tr><th scope=row>2</th><td>2016</td><td>2016-04-24</td><td>BOR. MONCHENGLADBACH</td><td>1899 HOFFENHEIM</td><td>3</td><td>1</td><td>2</td><td>0</td><td>24</td><td>14</td><td>11</td><td>8</td><td>14</td><td>11</td><td>12</td><td>3</td><td>1</td><td>2</td><td>0</td><td>0</td><td>4</td></tr>\n",
       "\t<tr><th scope=row>3</th><td>2016</td><td>2016-04-23</td><td>FC KOLN</td><td> SV DARMSTADT 98</td><td>4</td><td>1</td><td>2</td><td>1</td><td>15</td><td>15</td><td>9</td><td>2</td><td>15</td><td>17</td><td>3</td><td>6</td><td>2</td><td>2</td><td>0</td><td>0</td><td>4</td></tr>\n",
       "\t<tr><th scope=row>4</th><td>2016</td><td>2016-04-23</td><td>HERTHA BERLIN</td><td>BAYERN MUNICH</td><td>0</td><td>2</td><td>0</td><td>0</td><td>9</td><td>6</td><td>0</td><td>6</td><td>9</td><td>17</td><td>1</td><td>3</td><td>0</td><td>4</td><td>0</td><td>0</td><td>4</td></tr>\n",
       "\t<tr><th scope=row>5</th><td>2016</td><td>2016-04-23</td><td>FC INGOLSTADT 04</td><td>HANNOVER 96</td><td>2</td><td>2</td><td>2</td><td>0</td><td>8</td><td>14</td><td>3</td><td>4</td><td>10</td><td>13</td><td>2</td><td>7</td><td>2</td><td>2</td><td>1</td><td>0</td><td>4</td></tr>\n",
       "\t<tr><th scope=row>6</th><td>2016</td><td>2016-04-23</td><td>FC SCHALKE 04</td><td>BAYER LEVERKUSEN</td><td>2</td><td>3</td><td>2</td><td>0</td><td>20</td><td>16</td><td>8</td><td>6</td><td>19</td><td>16</td><td>6</td><td>4</td><td>3</td><td>3</td><td>0</td><td>0</td><td>4</td></tr>\n",
       "</tbody>\n",
       "</table>\n"
      ],
      "text/latex": [
       "\\begin{tabular}{r|lllllllllllllllllllll}\n",
       "  & year & Match_Date & HomeTeam & AwayTeam & Home_Goals & Away_Goals & Halftime_Home_Goals & Halftime_Away_Goals & Hometeam_Shots & Awayteam_Shots & Hometeam_Shots_Target & Awayteam_Shots_Target & Hometeam_Fouls & Awayteam_Fouls & Hometeam_Corners & Awayteam_Corners & Hometeam_Yellowcards & Awayteam_Yellowcards & Hometeam_Redcards & Awayteam_Redcards & month\\\\\n",
       "\\hline\n",
       "\t1 & 2016 & 2016-04-24 & EINTRACHT FRANKFURT &  FSV MAINZ 05 & 2 & 1 & 1 & 1 & 8 & 7 & 4 & 4 & 22 & 23 & 5 & 2 & 4 & 4 & 0 & 0 & 4\\\\\n",
       "\t2 & 2016 & 2016-04-24 & BOR. MONCHENGLADBACH & 1899 HOFFENHEIM & 3 & 1 & 2 & 0 & 24 & 14 & 11 & 8 & 14 & 11 & 12 & 3 & 1 & 2 & 0 & 0 & 4\\\\\n",
       "\t3 & 2016 & 2016-04-23 & FC KOLN &  SV DARMSTADT 98 & 4 & 1 & 2 & 1 & 15 & 15 & 9 & 2 & 15 & 17 & 3 & 6 & 2 & 2 & 0 & 0 & 4\\\\\n",
       "\t4 & 2016 & 2016-04-23 & HERTHA BERLIN & BAYERN MUNICH & 0 & 2 & 0 & 0 & 9 & 6 & 0 & 6 & 9 & 17 & 1 & 3 & 0 & 4 & 0 & 0 & 4\\\\\n",
       "\t5 & 2016 & 2016-04-23 & FC INGOLSTADT 04 & HANNOVER 96 & 2 & 2 & 2 & 0 & 8 & 14 & 3 & 4 & 10 & 13 & 2 & 7 & 2 & 2 & 1 & 0 & 4\\\\\n",
       "\t6 & 2016 & 2016-04-23 & FC SCHALKE 04 & BAYER LEVERKUSEN & 2 & 3 & 2 & 0 & 20 & 16 & 8 & 6 & 19 & 16 & 6 & 4 & 3 & 3 & 0 & 0 & 4\\\\\n",
       "\\end{tabular}\n"
      ],
      "text/plain": [
       "  year Match_Date             HomeTeam         AwayTeam Home_Goals Away_Goals\n",
       "1 2016 2016-04-24  EINTRACHT FRANKFURT     FSV MAINZ 05          2          1\n",
       "2 2016 2016-04-24 BOR. MONCHENGLADBACH  1899 HOFFENHEIM          3          1\n",
       "3 2016 2016-04-23              FC KOLN  SV DARMSTADT 98          4          1\n",
       "4 2016 2016-04-23        HERTHA BERLIN    BAYERN MUNICH          0          2\n",
       "5 2016 2016-04-23     FC INGOLSTADT 04      HANNOVER 96          2          2\n",
       "6 2016 2016-04-23        FC SCHALKE 04 BAYER LEVERKUSEN          2          3\n",
       "  Halftime_Home_Goals Halftime_Away_Goals Hometeam_Shots Awayteam_Shots\n",
       "1                   1                   1              8              7\n",
       "2                   2                   0             24             14\n",
       "3                   2                   1             15             15\n",
       "4                   0                   0              9              6\n",
       "5                   2                   0              8             14\n",
       "6                   2                   0             20             16\n",
       "  Hometeam_Shots_Target Awayteam_Shots_Target Hometeam_Fouls Awayteam_Fouls\n",
       "1                     4                     4             22             23\n",
       "2                    11                     8             14             11\n",
       "3                     9                     2             15             17\n",
       "4                     0                     6              9             17\n",
       "5                     3                     4             10             13\n",
       "6                     8                     6             19             16\n",
       "  Hometeam_Corners Awayteam_Corners Hometeam_Yellowcards Awayteam_Yellowcards\n",
       "1                5                2                    4                    4\n",
       "2               12                3                    1                    2\n",
       "3                3                6                    2                    2\n",
       "4                1                3                    0                    4\n",
       "5                2                7                    2                    2\n",
       "6                6                4                    3                    3\n",
       "  Hometeam_Redcards Awayteam_Redcards month\n",
       "1                 0                 0     4\n",
       "2                 0                 0     4\n",
       "3                 0                 0     4\n",
       "4                 0                 0     4\n",
       "5                 1                 0     4\n",
       "6                 0                 0     4"
      ]
     },
     "execution_count": 22,
     "metadata": {},
     "output_type": "execute_result"
    }
   ],
   "source": [
    "head(data)"
   ]
  },
  {
   "cell_type": "code",
   "execution_count": 27,
   "metadata": {
    "collapsed": true
   },
   "outputs": [],
   "source": [
    "saveRDS(data[1,], \"newCasegbm.rda\")"
   ]
  },
  {
   "cell_type": "code",
   "execution_count": 28,
   "metadata": {
    "collapsed": true
   },
   "outputs": [],
   "source": [
    "saveRDS(data[1,], \"newCase.rda\")\n",
    "saveRDS(data, \"RWCData.rda\")"
   ]
  },
  {
   "cell_type": "code",
   "execution_count": 29,
   "metadata": {
    "collapsed": false
   },
   "outputs": [
    {
     "data": {
      "text/html": [
       "<table>\n",
       "<thead><tr><th></th><th scope=col>Outcome</th><th scope=col>Match_Date</th><th scope=col>HomeTeam</th><th scope=col>AwayTeam</th><th scope=col>Home_Goals</th><th scope=col>Away_Goals</th><th scope=col>Halftime_Home_Goals</th><th scope=col>Halftime_Away_Goals</th><th scope=col>Hometeam_Shots</th><th scope=col>Awayteam_Shots</th><th scope=col>Hometeam_Shots_Target</th><th scope=col>Awayteam_Shots_Target</th><th scope=col>Hometeam_Fouls</th><th scope=col>Awayteam_Fouls</th><th scope=col>Hometeam_Corners</th><th scope=col>Awayteam_Corners</th><th scope=col>Hometeam_Yellowcards</th><th scope=col>Awayteam_Yellowcards</th><th scope=col>Hometeam_Redcards</th><th scope=col>Awayteam_Redcards</th><th scope=col>month</th><th scope=col>year</th></tr></thead>\n",
       "<tbody>\n",
       "\t<tr><th scope=row>1</th><td>win</td><td>2016-04-24</td><td>EINTRACHT FRANKFURT</td><td> FSV MAINZ 05</td><td>2</td><td>1</td><td>1</td><td>1</td><td>8</td><td>7</td><td>4</td><td>4</td><td>22</td><td>23</td><td>5</td><td>2</td><td>4</td><td>4</td><td>0</td><td>0</td><td>4</td><td>2016</td></tr>\n",
       "</tbody>\n",
       "</table>\n"
      ],
      "text/latex": [
       "\\begin{tabular}{r|llllllllllllllllllllll}\n",
       "  & Outcome & Match_Date & HomeTeam & AwayTeam & Home_Goals & Away_Goals & Halftime_Home_Goals & Halftime_Away_Goals & Hometeam_Shots & Awayteam_Shots & Hometeam_Shots_Target & Awayteam_Shots_Target & Hometeam_Fouls & Awayteam_Fouls & Hometeam_Corners & Awayteam_Corners & Hometeam_Yellowcards & Awayteam_Yellowcards & Hometeam_Redcards & Awayteam_Redcards & month & year\\\\\n",
       "\\hline\n",
       "\t1 & win & 2016-04-24 & EINTRACHT FRANKFURT &  FSV MAINZ 05 & 2 & 1 & 1 & 1 & 8 & 7 & 4 & 4 & 22 & 23 & 5 & 2 & 4 & 4 & 0 & 0 & 4 & 2016\\\\\n",
       "\\end{tabular}\n"
      ],
      "text/plain": [
       "  Outcome Match_Date            HomeTeam      AwayTeam Home_Goals Away_Goals\n",
       "1     win 2016-04-24 EINTRACHT FRANKFURT  FSV MAINZ 05          2          1\n",
       "  Halftime_Home_Goals Halftime_Away_Goals Hometeam_Shots Awayteam_Shots\n",
       "1                   1                   1              8              7\n",
       "  Hometeam_Shots_Target Awayteam_Shots_Target Hometeam_Fouls Awayteam_Fouls\n",
       "1                     4                     4             22             23\n",
       "  Hometeam_Corners Awayteam_Corners Hometeam_Yellowcards Awayteam_Yellowcards\n",
       "1                5                2                    4                    4\n",
       "  Hometeam_Redcards Awayteam_Redcards month year\n",
       "1                 0                 0     4 2016"
      ]
     },
     "execution_count": 29,
     "metadata": {},
     "output_type": "execute_result"
    }
   ],
   "source": [
    "readRDS(\"newCase.rda\")"
   ]
  },
  {
   "cell_type": "code",
   "execution_count": 532,
   "metadata": {
    "collapsed": false
   },
   "outputs": [
    {
     "data": {
      "text/plain": [
       "Random Forest \n",
       "\n",
       "598 samples\n",
       " 21 predictor\n",
       "  3 classes: 'loose', 'tie', 'win' \n",
       "\n",
       "No pre-processing\n",
       "Resampling: Bootstrapped (25 reps) \n",
       "Summary of sample sizes: 598, 598, 598, 598, 598, 598, ... \n",
       "Resampling results across tuning parameters:\n",
       "\n",
       "  mtry  Accuracy   Kappa    \n",
       "   1    0.7481162  0.5920595\n",
       "   7    0.9426907  0.9109578\n",
       "  14    0.9833403  0.9741127\n",
       "  27    0.9836474  0.9745888\n",
       "  37    0.9820680  0.9721605\n",
       "  40    0.9828500  0.9733733\n",
       "  53    0.9834030  0.9742631\n",
       "\n",
       "Accuracy was used to select the optimal model using  the largest value.\n",
       "The final value used for the model was mtry = 27. "
      ]
     },
     "execution_count": 532,
     "metadata": {},
     "output_type": "execute_result"
    },
    {
     "data": {
      "text/plain": [
       "Time difference of 1.075067 mins"
      ]
     },
     "execution_count": 532,
     "metadata": {},
     "output_type": "execute_result"
    }
   ],
   "source": [
    "rf\n",
    "time.taken.rf"
   ]
  },
  {
   "cell_type": "markdown",
   "metadata": {},
   "source": [
    "## Creating the final model"
   ]
  },
  {
   "cell_type": "code",
   "execution_count": 30,
   "metadata": {
    "collapsed": false
   },
   "outputs": [
    {
     "data": {
      "text/html": [
       "<table>\n",
       "<thead><tr><th></th><th scope=col>Outcome</th><th scope=col>Match_Date</th><th scope=col>HomeTeam</th><th scope=col>AwayTeam</th><th scope=col>Home_Goals</th><th scope=col>Away_Goals</th><th scope=col>Halftime_Home_Goals</th><th scope=col>Halftime_Away_Goals</th><th scope=col>Hometeam_Shots</th><th scope=col>Awayteam_Shots</th><th scope=col>Hometeam_Shots_Target</th><th scope=col>Awayteam_Shots_Target</th><th scope=col>Hometeam_Fouls</th><th scope=col>Awayteam_Fouls</th><th scope=col>Hometeam_Corners</th><th scope=col>Awayteam_Corners</th><th scope=col>Hometeam_Yellowcards</th><th scope=col>Awayteam_Yellowcards</th><th scope=col>Hometeam_Redcards</th><th scope=col>Awayteam_Redcards</th><th scope=col>month</th><th scope=col>year</th></tr></thead>\n",
       "<tbody>\n",
       "\t<tr><th scope=row>1</th><td>win</td><td>2016-04-24</td><td>EINTRACHT FRANKFURT</td><td> FSV MAINZ 05</td><td>2</td><td>1</td><td>1</td><td>1</td><td>8</td><td>7</td><td>4</td><td>4</td><td>22</td><td>23</td><td>5</td><td>2</td><td>4</td><td>4</td><td>0</td><td>0</td><td>4</td><td>2016</td></tr>\n",
       "\t<tr><th scope=row>2</th><td>win</td><td>2016-04-24</td><td>BOR. MONCHENGLADBACH</td><td>1899 HOFFENHEIM</td><td>3</td><td>1</td><td>2</td><td>0</td><td>24</td><td>14</td><td>11</td><td>8</td><td>14</td><td>11</td><td>12</td><td>3</td><td>1</td><td>2</td><td>0</td><td>0</td><td>4</td><td>2016</td></tr>\n",
       "\t<tr><th scope=row>3</th><td>win</td><td>2016-04-23</td><td>FC KOLN</td><td> SV DARMSTADT 98</td><td>4</td><td>1</td><td>2</td><td>1</td><td>15</td><td>15</td><td>9</td><td>2</td><td>15</td><td>17</td><td>3</td><td>6</td><td>2</td><td>2</td><td>0</td><td>0</td><td>4</td><td>2016</td></tr>\n",
       "\t<tr><th scope=row>4</th><td>loose</td><td>2016-04-23</td><td>HERTHA BERLIN</td><td>BAYERN MUNICH</td><td>0</td><td>2</td><td>0</td><td>0</td><td>9</td><td>6</td><td>0</td><td>6</td><td>9</td><td>17</td><td>1</td><td>3</td><td>0</td><td>4</td><td>0</td><td>0</td><td>4</td><td>2016</td></tr>\n",
       "\t<tr><th scope=row>5</th><td>tie</td><td>2016-04-23</td><td>FC INGOLSTADT 04</td><td>HANNOVER 96</td><td>2</td><td>2</td><td>2</td><td>0</td><td>8</td><td>14</td><td>3</td><td>4</td><td>10</td><td>13</td><td>2</td><td>7</td><td>2</td><td>2</td><td>1</td><td>0</td><td>4</td><td>2016</td></tr>\n",
       "\t<tr><th scope=row>6</th><td>loose</td><td>2016-04-23</td><td>FC SCHALKE 04</td><td>BAYER LEVERKUSEN</td><td>2</td><td>3</td><td>2</td><td>0</td><td>20</td><td>16</td><td>8</td><td>6</td><td>19</td><td>16</td><td>6</td><td>4</td><td>3</td><td>3</td><td>0</td><td>0</td><td>4</td><td>2016</td></tr>\n",
       "</tbody>\n",
       "</table>\n"
      ],
      "text/latex": [
       "\\begin{tabular}{r|llllllllllllllllllllll}\n",
       "  & Outcome & Match_Date & HomeTeam & AwayTeam & Home_Goals & Away_Goals & Halftime_Home_Goals & Halftime_Away_Goals & Hometeam_Shots & Awayteam_Shots & Hometeam_Shots_Target & Awayteam_Shots_Target & Hometeam_Fouls & Awayteam_Fouls & Hometeam_Corners & Awayteam_Corners & Hometeam_Yellowcards & Awayteam_Yellowcards & Hometeam_Redcards & Awayteam_Redcards & month & year\\\\\n",
       "\\hline\n",
       "\t1 & win & 2016-04-24 & EINTRACHT FRANKFURT &  FSV MAINZ 05 & 2 & 1 & 1 & 1 & 8 & 7 & 4 & 4 & 22 & 23 & 5 & 2 & 4 & 4 & 0 & 0 & 4 & 2016\\\\\n",
       "\t2 & win & 2016-04-24 & BOR. MONCHENGLADBACH & 1899 HOFFENHEIM & 3 & 1 & 2 & 0 & 24 & 14 & 11 & 8 & 14 & 11 & 12 & 3 & 1 & 2 & 0 & 0 & 4 & 2016\\\\\n",
       "\t3 & win & 2016-04-23 & FC KOLN &  SV DARMSTADT 98 & 4 & 1 & 2 & 1 & 15 & 15 & 9 & 2 & 15 & 17 & 3 & 6 & 2 & 2 & 0 & 0 & 4 & 2016\\\\\n",
       "\t4 & loose & 2016-04-23 & HERTHA BERLIN & BAYERN MUNICH & 0 & 2 & 0 & 0 & 9 & 6 & 0 & 6 & 9 & 17 & 1 & 3 & 0 & 4 & 0 & 0 & 4 & 2016\\\\\n",
       "\t5 & tie & 2016-04-23 & FC INGOLSTADT 04 & HANNOVER 96 & 2 & 2 & 2 & 0 & 8 & 14 & 3 & 4 & 10 & 13 & 2 & 7 & 2 & 2 & 1 & 0 & 4 & 2016\\\\\n",
       "\t6 & loose & 2016-04-23 & FC SCHALKE 04 & BAYER LEVERKUSEN & 2 & 3 & 2 & 0 & 20 & 16 & 8 & 6 & 19 & 16 & 6 & 4 & 3 & 3 & 0 & 0 & 4 & 2016\\\\\n",
       "\\end{tabular}\n"
      ],
      "text/plain": [
       "  Outcome Match_Date             HomeTeam         AwayTeam Home_Goals\n",
       "1     win 2016-04-24  EINTRACHT FRANKFURT     FSV MAINZ 05          2\n",
       "2     win 2016-04-24 BOR. MONCHENGLADBACH  1899 HOFFENHEIM          3\n",
       "3     win 2016-04-23              FC KOLN  SV DARMSTADT 98          4\n",
       "4   loose 2016-04-23        HERTHA BERLIN    BAYERN MUNICH          0\n",
       "5     tie 2016-04-23     FC INGOLSTADT 04      HANNOVER 96          2\n",
       "6   loose 2016-04-23        FC SCHALKE 04 BAYER LEVERKUSEN          2\n",
       "  Away_Goals Halftime_Home_Goals Halftime_Away_Goals Hometeam_Shots\n",
       "1          1                   1                   1              8\n",
       "2          1                   2                   0             24\n",
       "3          1                   2                   1             15\n",
       "4          2                   0                   0              9\n",
       "5          2                   2                   0              8\n",
       "6          3                   2                   0             20\n",
       "  Awayteam_Shots Hometeam_Shots_Target Awayteam_Shots_Target Hometeam_Fouls\n",
       "1              7                     4                     4             22\n",
       "2             14                    11                     8             14\n",
       "3             15                     9                     2             15\n",
       "4              6                     0                     6              9\n",
       "5             14                     3                     4             10\n",
       "6             16                     8                     6             19\n",
       "  Awayteam_Fouls Hometeam_Corners Awayteam_Corners Hometeam_Yellowcards\n",
       "1             23                5                2                    4\n",
       "2             11               12                3                    1\n",
       "3             17                3                6                    2\n",
       "4             17                1                3                    0\n",
       "5             13                2                7                    2\n",
       "6             16                6                4                    3\n",
       "  Awayteam_Yellowcards Hometeam_Redcards Awayteam_Redcards month year\n",
       "1                    4                 0                 0     4 2016\n",
       "2                    2                 0                 0     4 2016\n",
       "3                    2                 0                 0     4 2016\n",
       "4                    4                 0                 0     4 2016\n",
       "5                    2                 1                 0     4 2016\n",
       "6                    3                 0                 0     4 2016"
      ]
     },
     "execution_count": 30,
     "metadata": {},
     "output_type": "execute_result"
    }
   ],
   "source": [
    "# load data\n",
    "data <- readRDS(\"RWCData.rda\")\n",
    "head(data)"
   ]
  },
  {
   "cell_type": "markdown",
   "metadata": {
    "collapsed": false
   },
   "source": [
    "### Model\n",
    "\n",
    "#tune grid\n",
    "rfGrid <- expand.grid(mtry=c(1,6,7,8,9,10,15,10,25,30,35,40,45,50))\n",
    "# Tune using 5-fold cross-validation\n",
    "fitControl <- trainControl(method=\"cv\",\n",
    "                          number=5,\n",
    "                          repeats=1)\n",
    "#Train classifier\n",
    "model <- train(x=data[,-2], y=data[,2], method=\"rf\",\n",
    "               ntree=1000,\n",
    "               trControl=fitControl,\n",
    "               tuneGrid=rfGrid)\n",
    "#save model\n",
    "saveRDS(model, file=\"Soccer_Prediction_Model.rda\")\n"
   ]
  },
  {
   "cell_type": "code",
   "execution_count": 106,
   "metadata": {
    "collapsed": false
   },
   "outputs": [
    {
     "data": {
      "text/html": [
       "<table>\n",
       "<thead><tr><th></th><th scope=col>Outcome</th><th scope=col>Match_Date</th><th scope=col>HomeTeam</th><th scope=col>AwayTeam</th><th scope=col>Home_Goals</th><th scope=col>Away_Goals</th><th scope=col>Halftime_Home_Goals</th><th scope=col>Halftime_Away_Goals</th><th scope=col>Hometeam_Shots</th><th scope=col>Awayteam_Shots</th><th scope=col>Hometeam_Shots_Target</th><th scope=col>Awayteam_Shots_Target</th><th scope=col>Hometeam_Fouls</th><th scope=col>Awayteam_Fouls</th><th scope=col>Hometeam_Corners</th><th scope=col>Awayteam_Corners</th><th scope=col>Hometeam_Yellowcards</th><th scope=col>Awayteam_Yellowcards</th><th scope=col>Hometeam_Redcards</th><th scope=col>Awayteam_Redcards</th><th scope=col>month</th><th scope=col>year</th></tr></thead>\n",
       "<tbody>\n",
       "\t<tr><th scope=row>1</th><td>win</td><td>2016-04-24</td><td>EINTRACHT FRANKFURT</td><td> FSV MAINZ 05</td><td>NA</td><td>1</td><td>1</td><td>1</td><td>8</td><td>7</td><td>4</td><td>4</td><td>22</td><td>23</td><td>5</td><td>2</td><td>4</td><td>4</td><td>0</td><td>0</td><td>4</td><td>2016</td></tr>\n",
       "\t<tr><th scope=row>3</th><td>win</td><td>2016-04-23</td><td>FC KOLN</td><td> SV DARMSTADT 98</td><td>NA</td><td>1</td><td>2</td><td>1</td><td>15</td><td>15</td><td>9</td><td>2</td><td>15</td><td>17</td><td>3</td><td>6</td><td>2</td><td>2</td><td>0</td><td>0</td><td>4</td><td>2016</td></tr>\n",
       "\t<tr><th scope=row>5</th><td>tie</td><td>2016-04-23</td><td>FC INGOLSTADT 04</td><td>HANNOVER 96</td><td>NA</td><td>2</td><td>2</td><td>0</td><td>8</td><td>14</td><td>3</td><td>4</td><td>10</td><td>13</td><td>2</td><td>7</td><td>2</td><td>2</td><td>1</td><td>0</td><td>4</td><td>2016</td></tr>\n",
       "\t<tr><th scope=row>7</th><td>loose</td><td>2016-04-23</td><td>VfB STUTTGART</td><td>BORUSSIA DORTMUND</td><td>NA</td><td>3</td><td>0</td><td>2</td><td>8</td><td>16</td><td>1</td><td>9</td><td>19</td><td>10</td><td>3</td><td>4</td><td>0</td><td>1</td><td>0</td><td>0</td><td>4</td><td>2016</td></tr>\n",
       "\t<tr><th scope=row>9</th><td>win</td><td>2016-04-22</td><td>HAMBURGER SV</td><td>WERDER BREMEN</td><td>NA</td><td>1</td><td>2</td><td>0</td><td>12</td><td>21</td><td>7</td><td>10</td><td>22</td><td>11</td><td>5</td><td>4</td><td>3</td><td>4</td><td>0</td><td>0</td><td>4</td><td>2016</td></tr>\n",
       "\t<tr><th scope=row>11</th><td>loose</td><td>2016-04-17</td><td> FSV MAINZ 05</td><td>FC KOLN</td><td>NA</td><td>3</td><td>1</td><td>0</td><td>18</td><td>12</td><td>7</td><td>4</td><td>12</td><td>11</td><td>6</td><td>7</td><td>1</td><td>2</td><td>0</td><td>0</td><td>4</td><td>2016</td></tr>\n",
       "</tbody>\n",
       "</table>\n"
      ],
      "text/latex": [
       "\\begin{tabular}{r|llllllllllllllllllllll}\n",
       "  & Outcome & Match_Date & HomeTeam & AwayTeam & Home_Goals & Away_Goals & Halftime_Home_Goals & Halftime_Away_Goals & Hometeam_Shots & Awayteam_Shots & Hometeam_Shots_Target & Awayteam_Shots_Target & Hometeam_Fouls & Awayteam_Fouls & Hometeam_Corners & Awayteam_Corners & Hometeam_Yellowcards & Awayteam_Yellowcards & Hometeam_Redcards & Awayteam_Redcards & month & year\\\\\n",
       "\\hline\n",
       "\t1 & win & 2016-04-24 & EINTRACHT FRANKFURT &  FSV MAINZ 05 & NA & 1 & 1 & 1 & 8 & 7 & 4 & 4 & 22 & 23 & 5 & 2 & 4 & 4 & 0 & 0 & 4 & 2016\\\\\n",
       "\t3 & win & 2016-04-23 & FC KOLN &  SV DARMSTADT 98 & NA & 1 & 2 & 1 & 15 & 15 & 9 & 2 & 15 & 17 & 3 & 6 & 2 & 2 & 0 & 0 & 4 & 2016\\\\\n",
       "\t5 & tie & 2016-04-23 & FC INGOLSTADT 04 & HANNOVER 96 & NA & 2 & 2 & 0 & 8 & 14 & 3 & 4 & 10 & 13 & 2 & 7 & 2 & 2 & 1 & 0 & 4 & 2016\\\\\n",
       "\t7 & loose & 2016-04-23 & VfB STUTTGART & BORUSSIA DORTMUND & NA & 3 & 0 & 2 & 8 & 16 & 1 & 9 & 19 & 10 & 3 & 4 & 0 & 1 & 0 & 0 & 4 & 2016\\\\\n",
       "\t9 & win & 2016-04-22 & HAMBURGER SV & WERDER BREMEN & NA & 1 & 2 & 0 & 12 & 21 & 7 & 10 & 22 & 11 & 5 & 4 & 3 & 4 & 0 & 0 & 4 & 2016\\\\\n",
       "\t11 & loose & 2016-04-17 &  FSV MAINZ 05 & FC KOLN & NA & 3 & 1 & 0 & 18 & 12 & 7 & 4 & 12 & 11 & 6 & 7 & 1 & 2 & 0 & 0 & 4 & 2016\\\\\n",
       "\\end{tabular}\n"
      ],
      "text/plain": [
       "   Outcome Match_Date            HomeTeam          AwayTeam Home_Goals\n",
       "1      win 2016-04-24 EINTRACHT FRANKFURT      FSV MAINZ 05         NA\n",
       "3      win 2016-04-23             FC KOLN   SV DARMSTADT 98         NA\n",
       "5      tie 2016-04-23    FC INGOLSTADT 04       HANNOVER 96         NA\n",
       "7    loose 2016-04-23       VfB STUTTGART BORUSSIA DORTMUND         NA\n",
       "9      win 2016-04-22        HAMBURGER SV     WERDER BREMEN         NA\n",
       "11   loose 2016-04-17        FSV MAINZ 05           FC KOLN         NA\n",
       "   Away_Goals Halftime_Home_Goals Halftime_Away_Goals Hometeam_Shots\n",
       "1           1                   1                   1              8\n",
       "3           1                   2                   1             15\n",
       "5           2                   2                   0              8\n",
       "7           3                   0                   2              8\n",
       "9           1                   2                   0             12\n",
       "11          3                   1                   0             18\n",
       "   Awayteam_Shots Hometeam_Shots_Target Awayteam_Shots_Target Hometeam_Fouls\n",
       "1               7                     4                     4             22\n",
       "3              15                     9                     2             15\n",
       "5              14                     3                     4             10\n",
       "7              16                     1                     9             19\n",
       "9              21                     7                    10             22\n",
       "11             12                     7                     4             12\n",
       "   Awayteam_Fouls Hometeam_Corners Awayteam_Corners Hometeam_Yellowcards\n",
       "1              23                5                2                    4\n",
       "3              17                3                6                    2\n",
       "5              13                2                7                    2\n",
       "7              10                3                4                    0\n",
       "9              11                5                4                    3\n",
       "11             11                6                7                    1\n",
       "   Awayteam_Yellowcards Hometeam_Redcards Awayteam_Redcards month year\n",
       "1                     4                 0                 0     4 2016\n",
       "3                     2                 0                 0     4 2016\n",
       "5                     2                 1                 0     4 2016\n",
       "7                     1                 0                 0     4 2016\n",
       "9                     4                 0                 0     4 2016\n",
       "11                    2                 0                 0     4 2016"
      ]
     },
     "execution_count": 106,
     "metadata": {},
     "output_type": "execute_result"
    }
   ],
   "source": [
    "#test$Outcome <- NA\n",
    "test$Home_Goals <- NA\n",
    "head(test)"
   ]
  },
  {
   "cell_type": "code",
   "execution_count": 110,
   "metadata": {
    "collapsed": false
   },
   "outputs": [
    {
     "ename": "ERROR",
     "evalue": "Error: variable 'Home_Goals' was fitted with type \"numeric\" but type \"logical\" was supplied\n",
     "output_type": "error",
     "traceback": [
      "Error: variable 'Home_Goals' was fitted with type \"numeric\" but type \"logical\" was supplied\n"
     ]
    }
   ],
   "source": [
    "# test gbm classifier\n",
    "predict(gbmFit1, newdata=head(test), type=\"prob\")"
   ]
  },
  {
   "cell_type": "markdown",
   "metadata": {},
   "source": [
    "\n",
    "## On-demand prediction"
   ]
  },
  {
   "cell_type": "code",
   "execution_count": 43,
   "metadata": {
    "collapsed": false
   },
   "outputs": [
    {
     "data": {
      "text/html": [
       "<ol class=list-inline>\n",
       "\t<li>1197</li>\n",
       "\t<li>22</li>\n",
       "</ol>\n"
      ],
      "text/latex": [
       "\\begin{enumerate*}\n",
       "\\item 1197\n",
       "\\item 22\n",
       "\\end{enumerate*}\n"
      ],
      "text/markdown": [
       "1. 1197\n",
       "2. 22\n",
       "\n",
       "\n"
      ],
      "text/plain": [
       "[1] 1197   22"
      ]
     },
     "execution_count": 43,
     "metadata": {},
     "output_type": "execute_result"
    },
    {
     "data": {
      "text/html": [
       "<table>\n",
       "<thead><tr><th></th><th scope=col>Outcome</th><th scope=col>Match_Date</th><th scope=col>HomeTeam</th><th scope=col>AwayTeam</th><th scope=col>Home_Goals</th><th scope=col>Away_Goals</th><th scope=col>Halftime_Home_Goals</th><th scope=col>Halftime_Away_Goals</th><th scope=col>Hometeam_Shots</th><th scope=col>Awayteam_Shots</th><th scope=col>Hometeam_Shots_Target</th><th scope=col>Awayteam_Shots_Target</th><th scope=col>Hometeam_Fouls</th><th scope=col>Awayteam_Fouls</th><th scope=col>Hometeam_Corners</th><th scope=col>Awayteam_Corners</th><th scope=col>Hometeam_Yellowcards</th><th scope=col>Awayteam_Yellowcards</th><th scope=col>Hometeam_Redcards</th><th scope=col>Awayteam_Redcards</th><th scope=col>month</th><th scope=col>year</th></tr></thead>\n",
       "<tbody>\n",
       "\t<tr><th scope=row>1</th><td>win</td><td>2016-04-24</td><td>EINTRACHT FRANKFURT</td><td> FSV MAINZ 05</td><td>2</td><td>1</td><td>1</td><td>1</td><td>8</td><td>7</td><td>4</td><td>4</td><td>22</td><td>23</td><td>5</td><td>2</td><td>4</td><td>4</td><td>0</td><td>0</td><td>4</td><td>2016</td></tr>\n",
       "\t<tr><th scope=row>2</th><td>win</td><td>2016-04-24</td><td>BOR. MONCHENGLADBACH</td><td>1899 HOFFENHEIM</td><td>3</td><td>1</td><td>2</td><td>0</td><td>24</td><td>14</td><td>11</td><td>8</td><td>14</td><td>11</td><td>12</td><td>3</td><td>1</td><td>2</td><td>0</td><td>0</td><td>4</td><td>2016</td></tr>\n",
       "\t<tr><th scope=row>3</th><td>win</td><td>2016-04-23</td><td>FC KOLN</td><td> SV DARMSTADT 98</td><td>4</td><td>1</td><td>2</td><td>1</td><td>15</td><td>15</td><td>9</td><td>2</td><td>15</td><td>17</td><td>3</td><td>6</td><td>2</td><td>2</td><td>0</td><td>0</td><td>4</td><td>2016</td></tr>\n",
       "\t<tr><th scope=row>4</th><td>loose</td><td>2016-04-23</td><td>HERTHA BERLIN</td><td>BAYERN MUNICH</td><td>0</td><td>2</td><td>0</td><td>0</td><td>9</td><td>6</td><td>0</td><td>6</td><td>9</td><td>17</td><td>1</td><td>3</td><td>0</td><td>4</td><td>0</td><td>0</td><td>4</td><td>2016</td></tr>\n",
       "\t<tr><th scope=row>5</th><td>tie</td><td>2016-04-23</td><td>FC INGOLSTADT 04</td><td>HANNOVER 96</td><td>2</td><td>2</td><td>2</td><td>0</td><td>8</td><td>14</td><td>3</td><td>4</td><td>10</td><td>13</td><td>2</td><td>7</td><td>2</td><td>2</td><td>1</td><td>0</td><td>4</td><td>2016</td></tr>\n",
       "\t<tr><th scope=row>6</th><td>loose</td><td>2016-04-23</td><td>FC SCHALKE 04</td><td>BAYER LEVERKUSEN</td><td>2</td><td>3</td><td>2</td><td>0</td><td>20</td><td>16</td><td>8</td><td>6</td><td>19</td><td>16</td><td>6</td><td>4</td><td>3</td><td>3</td><td>0</td><td>0</td><td>4</td><td>2016</td></tr>\n",
       "</tbody>\n",
       "</table>\n"
      ],
      "text/latex": [
       "\\begin{tabular}{r|llllllllllllllllllllll}\n",
       "  & Outcome & Match_Date & HomeTeam & AwayTeam & Home_Goals & Away_Goals & Halftime_Home_Goals & Halftime_Away_Goals & Hometeam_Shots & Awayteam_Shots & Hometeam_Shots_Target & Awayteam_Shots_Target & Hometeam_Fouls & Awayteam_Fouls & Hometeam_Corners & Awayteam_Corners & Hometeam_Yellowcards & Awayteam_Yellowcards & Hometeam_Redcards & Awayteam_Redcards & month & year\\\\\n",
       "\\hline\n",
       "\t1 & win & 2016-04-24 & EINTRACHT FRANKFURT &  FSV MAINZ 05 & 2 & 1 & 1 & 1 & 8 & 7 & 4 & 4 & 22 & 23 & 5 & 2 & 4 & 4 & 0 & 0 & 4 & 2016\\\\\n",
       "\t2 & win & 2016-04-24 & BOR. MONCHENGLADBACH & 1899 HOFFENHEIM & 3 & 1 & 2 & 0 & 24 & 14 & 11 & 8 & 14 & 11 & 12 & 3 & 1 & 2 & 0 & 0 & 4 & 2016\\\\\n",
       "\t3 & win & 2016-04-23 & FC KOLN &  SV DARMSTADT 98 & 4 & 1 & 2 & 1 & 15 & 15 & 9 & 2 & 15 & 17 & 3 & 6 & 2 & 2 & 0 & 0 & 4 & 2016\\\\\n",
       "\t4 & loose & 2016-04-23 & HERTHA BERLIN & BAYERN MUNICH & 0 & 2 & 0 & 0 & 9 & 6 & 0 & 6 & 9 & 17 & 1 & 3 & 0 & 4 & 0 & 0 & 4 & 2016\\\\\n",
       "\t5 & tie & 2016-04-23 & FC INGOLSTADT 04 & HANNOVER 96 & 2 & 2 & 2 & 0 & 8 & 14 & 3 & 4 & 10 & 13 & 2 & 7 & 2 & 2 & 1 & 0 & 4 & 2016\\\\\n",
       "\t6 & loose & 2016-04-23 & FC SCHALKE 04 & BAYER LEVERKUSEN & 2 & 3 & 2 & 0 & 20 & 16 & 8 & 6 & 19 & 16 & 6 & 4 & 3 & 3 & 0 & 0 & 4 & 2016\\\\\n",
       "\\end{tabular}\n"
      ],
      "text/plain": [
       "  Outcome Match_Date             HomeTeam         AwayTeam Home_Goals\n",
       "1     win 2016-04-24  EINTRACHT FRANKFURT     FSV MAINZ 05          2\n",
       "2     win 2016-04-24 BOR. MONCHENGLADBACH  1899 HOFFENHEIM          3\n",
       "3     win 2016-04-23              FC KOLN  SV DARMSTADT 98          4\n",
       "4   loose 2016-04-23        HERTHA BERLIN    BAYERN MUNICH          0\n",
       "5     tie 2016-04-23     FC INGOLSTADT 04      HANNOVER 96          2\n",
       "6   loose 2016-04-23        FC SCHALKE 04 BAYER LEVERKUSEN          2\n",
       "  Away_Goals Halftime_Home_Goals Halftime_Away_Goals Hometeam_Shots\n",
       "1          1                   1                   1              8\n",
       "2          1                   2                   0             24\n",
       "3          1                   2                   1             15\n",
       "4          2                   0                   0              9\n",
       "5          2                   2                   0              8\n",
       "6          3                   2                   0             20\n",
       "  Awayteam_Shots Hometeam_Shots_Target Awayteam_Shots_Target Hometeam_Fouls\n",
       "1              7                     4                     4             22\n",
       "2             14                    11                     8             14\n",
       "3             15                     9                     2             15\n",
       "4              6                     0                     6              9\n",
       "5             14                     3                     4             10\n",
       "6             16                     8                     6             19\n",
       "  Awayteam_Fouls Hometeam_Corners Awayteam_Corners Hometeam_Yellowcards\n",
       "1             23                5                2                    4\n",
       "2             11               12                3                    1\n",
       "3             17                3                6                    2\n",
       "4             17                1                3                    0\n",
       "5             13                2                7                    2\n",
       "6             16                6                4                    3\n",
       "  Awayteam_Yellowcards Hometeam_Redcards Awayteam_Redcards month year\n",
       "1                    4                 0                 0     4 2016\n",
       "2                    2                 0                 0     4 2016\n",
       "3                    2                 0                 0     4 2016\n",
       "4                    4                 0                 0     4 2016\n",
       "5                    2                 1                 0     4 2016\n",
       "6                    3                 0                 0     4 2016"
      ]
     },
     "execution_count": 43,
     "metadata": {},
     "output_type": "execute_result"
    }
   ],
   "source": [
    "dim(data)\n",
    "head(data)"
   ]
  },
  {
   "cell_type": "code",
   "execution_count": 36,
   "metadata": {
    "collapsed": true
   },
   "outputs": [],
   "source": [
    "awayteamStats<-NULL\n",
    "hometeamStats<-NULL"
   ]
  },
  {
   "cell_type": "code",
   "execution_count": 55,
   "metadata": {
    "collapsed": false
   },
   "outputs": [],
   "source": [
    "hometeamStats<- allgames[c(1,2,21,22,3,5,7,9,11,13,15,17,19)]"
   ]
  },
  {
   "cell_type": "code",
   "execution_count": 56,
   "metadata": {
    "collapsed": false
   },
   "outputs": [],
   "source": [
    "awayteamStats<- allgames[c(1,2,21,22,4,6,8,10,12,14,16,18,20)]"
   ]
  },
  {
   "cell_type": "code",
   "execution_count": 57,
   "metadata": {
    "collapsed": false,
    "scrolled": true
   },
   "outputs": [
    {
     "data": {
      "text/html": [
       "<ol class=list-inline>\n",
       "\t<li>1197</li>\n",
       "\t<li>13</li>\n",
       "</ol>\n"
      ],
      "text/latex": [
       "\\begin{enumerate*}\n",
       "\\item 1197\n",
       "\\item 13\n",
       "\\end{enumerate*}\n"
      ],
      "text/markdown": [
       "1. 1197\n",
       "2. 13\n",
       "\n",
       "\n"
      ],
      "text/plain": [
       "[1] 1197   13"
      ]
     },
     "execution_count": 57,
     "metadata": {},
     "output_type": "execute_result"
    },
    {
     "data": {
      "text/html": [
       "<table>\n",
       "<thead><tr><th></th><th scope=col>Outcome</th><th scope=col>Match_Date</th><th scope=col>month</th><th scope=col>year</th><th scope=col>AwayTeam</th><th scope=col>Away_Goals</th><th scope=col>Halftime_Away_Goals</th><th scope=col>Awayteam_Shots</th><th scope=col>Awayteam_Shots_Target</th><th scope=col>Awayteam_Fouls</th><th scope=col>Awayteam_Corners</th><th scope=col>Awayteam_Yellowcards</th><th scope=col>Awayteam_Redcards</th></tr></thead>\n",
       "<tbody>\n",
       "\t<tr><th scope=row>1</th><td>win</td><td>2016-04-24</td><td>4</td><td>2016</td><td> FSV MAINZ 05</td><td>1</td><td>1</td><td>7</td><td>4</td><td>23</td><td>2</td><td>4</td><td>0</td></tr>\n",
       "\t<tr><th scope=row>2</th><td>win</td><td>2016-04-24</td><td>4</td><td>2016</td><td>1899 HOFFENHEIM</td><td>1</td><td>0</td><td>14</td><td>8</td><td>11</td><td>3</td><td>2</td><td>0</td></tr>\n",
       "\t<tr><th scope=row>3</th><td>win</td><td>2016-04-23</td><td>4</td><td>2016</td><td> SV DARMSTADT 98</td><td>1</td><td>1</td><td>15</td><td>2</td><td>17</td><td>6</td><td>2</td><td>0</td></tr>\n",
       "\t<tr><th scope=row>4</th><td>loose</td><td>2016-04-23</td><td>4</td><td>2016</td><td>BAYERN MUNICH</td><td>2</td><td>0</td><td>6</td><td>6</td><td>17</td><td>3</td><td>4</td><td>0</td></tr>\n",
       "\t<tr><th scope=row>5</th><td>tie</td><td>2016-04-23</td><td>4</td><td>2016</td><td>HANNOVER 96</td><td>2</td><td>0</td><td>14</td><td>4</td><td>13</td><td>7</td><td>2</td><td>0</td></tr>\n",
       "\t<tr><th scope=row>6</th><td>loose</td><td>2016-04-23</td><td>4</td><td>2016</td><td>BAYER LEVERKUSEN</td><td>3</td><td>0</td><td>16</td><td>6</td><td>16</td><td>4</td><td>3</td><td>0</td></tr>\n",
       "</tbody>\n",
       "</table>\n"
      ],
      "text/latex": [
       "\\begin{tabular}{r|lllllllllllll}\n",
       "  & Outcome & Match_Date & month & year & AwayTeam & Away_Goals & Halftime_Away_Goals & Awayteam_Shots & Awayteam_Shots_Target & Awayteam_Fouls & Awayteam_Corners & Awayteam_Yellowcards & Awayteam_Redcards\\\\\n",
       "\\hline\n",
       "\t1 & win & 2016-04-24 & 4 & 2016 &  FSV MAINZ 05 & 1 & 1 & 7 & 4 & 23 & 2 & 4 & 0\\\\\n",
       "\t2 & win & 2016-04-24 & 4 & 2016 & 1899 HOFFENHEIM & 1 & 0 & 14 & 8 & 11 & 3 & 2 & 0\\\\\n",
       "\t3 & win & 2016-04-23 & 4 & 2016 &  SV DARMSTADT 98 & 1 & 1 & 15 & 2 & 17 & 6 & 2 & 0\\\\\n",
       "\t4 & loose & 2016-04-23 & 4 & 2016 & BAYERN MUNICH & 2 & 0 & 6 & 6 & 17 & 3 & 4 & 0\\\\\n",
       "\t5 & tie & 2016-04-23 & 4 & 2016 & HANNOVER 96 & 2 & 0 & 14 & 4 & 13 & 7 & 2 & 0\\\\\n",
       "\t6 & loose & 2016-04-23 & 4 & 2016 & BAYER LEVERKUSEN & 3 & 0 & 16 & 6 & 16 & 4 & 3 & 0\\\\\n",
       "\\end{tabular}\n"
      ],
      "text/plain": [
       "  Outcome Match_Date month year         AwayTeam Away_Goals Halftime_Away_Goals\n",
       "1     win 2016-04-24     4 2016     FSV MAINZ 05          1                   1\n",
       "2     win 2016-04-24     4 2016  1899 HOFFENHEIM          1                   0\n",
       "3     win 2016-04-23     4 2016  SV DARMSTADT 98          1                   1\n",
       "4   loose 2016-04-23     4 2016    BAYERN MUNICH          2                   0\n",
       "5     tie 2016-04-23     4 2016      HANNOVER 96          2                   0\n",
       "6   loose 2016-04-23     4 2016 BAYER LEVERKUSEN          3                   0\n",
       "  Awayteam_Shots Awayteam_Shots_Target Awayteam_Fouls Awayteam_Corners\n",
       "1              7                     4             23                2\n",
       "2             14                     8             11                3\n",
       "3             15                     2             17                6\n",
       "4              6                     6             17                3\n",
       "5             14                     4             13                7\n",
       "6             16                     6             16                4\n",
       "  Awayteam_Yellowcards Awayteam_Redcards\n",
       "1                    4                 0\n",
       "2                    2                 0\n",
       "3                    2                 0\n",
       "4                    4                 0\n",
       "5                    2                 0\n",
       "6                    3                 0"
      ]
     },
     "execution_count": 57,
     "metadata": {},
     "output_type": "execute_result"
    }
   ],
   "source": [
    "dim(awayteamStats)\n",
    "head(awayteamStats)"
   ]
  },
  {
   "cell_type": "code",
   "execution_count": 58,
   "metadata": {
    "collapsed": false
   },
   "outputs": [],
   "source": [
    "# create predictors\n",
    "awayteamStatsagg <- aggregate(awayteamStats[1:nrow(awayteamStats),6:13],\n",
    "                              by=list(awayteamStats$AwayTeam),\n",
    "                              FUN=mean)\n",
    "\n",
    "hometeamStatsagg <- aggregate(hometeamStats[1:nrow(hometeamStats),6:13],\n",
    "                              by=list(hometeamStats$HomeTeam),\n",
    "                              FUN=mean)\n"
   ]
  },
  {
   "cell_type": "markdown",
   "metadata": {},
   "source": [
    "## Final model on whole dataset"
   ]
  },
  {
   "cell_type": "code",
   "execution_count": 59,
   "metadata": {
    "collapsed": true
   },
   "outputs": [],
   "source": [
    "# Tune using 5-fold cross-validation\n",
    "fitControl2 <- trainControl(method=\"cv\",\n",
    "                         number=10,\n",
    "                         repeats=5)"
   ]
  },
  {
   "cell_type": "code",
   "execution_count": 102,
   "metadata": {
    "collapsed": true
   },
   "outputs": [],
   "source": [
    "# fitting gbm for \"Outcome\"\n",
    "library(gbm)\n",
    "gbmFit2 <- train(Outcome~., data=data,\n",
    "                method=\"gbm\",\n",
    "                trControl = fitControl2,\n",
    "                verbose=FALSE,\n",
    "                tuneGrid = gbmGrid)"
   ]
  },
  {
   "cell_type": "markdown",
   "metadata": {
    "collapsed": false
   },
   "source": [
    "# Create function to take team name inputs and return a prediction, RF version\n",
    "predict_match <- function(homeTeam,awayTeam){\n",
    "    date<-Sys.Date()\n",
    "    #newCase<-matrix(nrow = 1, ncol = 22)\n",
    "    newCase<-readRDS(\"newCase.rda\")\n",
    "    newCase[1,1]<-factor(year(date))\n",
    "    newCase[1,2]<-\"tie\"\n",
    "    newCase[1,3]<-date\n",
    "    newCase[1,4]<-homeTeam\n",
    "    newCase[1,5]<-awayTeam\n",
    "    newCase[1,c(7,9,11,13,15,17,19,21)]<-awayteamStatsagg[awayteamStatsagg[1] == awayTeam][2:9]\n",
    "    newCase[1,c(6,8,10,12,14,16,18,20)]<-hometeamStatsagg[hometeamStatsagg[1] == homeTeam][2:9]\n",
    "    newCase[1,22]<-factor(month(date))\n",
    "    #return(head(newCase))\n",
    "    y_probs1 <- predict.train(model, newCase)\n",
    "    y_probs2 <- predict.train(model, newCase)\n",
    "    return(y_probs1)\n",
    "        xlooseProb <- round((y_probs1[1] + y_probs2[2])/3)\n",
    "        xwinProb <- round((y_probs1[2] + y_probs2[1])/3)\n",
    "        xreturn(as.character(c(looseProb, winProb)))\n",
    "}"
   ]
  },
  {
   "cell_type": "code",
   "execution_count": 61,
   "metadata": {
    "collapsed": false
   },
   "outputs": [
    {
     "data": {
      "text/html": [
       "<table>\n",
       "<thead><tr><th></th><th scope=col>Group.1</th><th scope=col>Home_Goals</th><th scope=col>Halftime_Home_Goals</th><th scope=col>Hometeam_Shots</th><th scope=col>Hometeam_Shots_Target</th><th scope=col>Hometeam_Fouls</th><th scope=col>Hometeam_Corners</th><th scope=col>Hometeam_Yellowcards</th><th scope=col>Hometeam_Redcards</th></tr></thead>\n",
       "<tbody>\n",
       "\t<tr><th scope=row>1</th><td> FSV MAINZ 05</td><td>1.515152</td><td>0.6969697</td><td>12.93939</td><td>4.30303</td><td>14.87879</td><td>4.515152</td><td>1.590909</td><td>0.09090909</td></tr>\n",
       "\t<tr><th scope=row>2</th><td> SV DARMSTADT 98</td><td>0.9333333</td><td>0.4666667</td><td>9.466667</td><td>3.2</td><td>15.4</td><td>3.4</td><td>2.6</td><td>0</td></tr>\n",
       "\t<tr><th scope=row>3</th><td>1899 HOFFENHEIM</td><td>1.727273</td><td>0.8787879</td><td>14.56061</td><td>5.454545</td><td>16.24242</td><td>4.636364</td><td>1.757576</td><td>0.09090909</td></tr>\n",
       "\t<tr><th scope=row>4</th><td>BAYER LEVERKUSEN</td><td>2.060606</td><td>0.8484848</td><td>17.25758</td><td>6.348485</td><td>15.10606</td><td>6.742424</td><td>1.833333</td><td>0.07575758</td></tr>\n",
       "\t<tr><th scope=row>5</th><td>BAYERN MUNICH</td><td>2.984848</td><td>1.287879</td><td>19.87879</td><td>8.69697</td><td>11.31818</td><td>8.363636</td><td>1.015152</td><td>0.04545455</td></tr>\n",
       "\t<tr><th scope=row>6</th><td>BOR. MONCHENGLADBACH</td><td>2.044776</td><td>0.9253731</td><td>13.79104</td><td>5.820896</td><td>12.1791</td><td>4.537313</td><td>1.41791</td><td>0.07462687</td></tr>\n",
       "</tbody>\n",
       "</table>\n"
      ],
      "text/latex": [
       "\\begin{tabular}{r|lllllllll}\n",
       "  & Group.1 & Home_Goals & Halftime_Home_Goals & Hometeam_Shots & Hometeam_Shots_Target & Hometeam_Fouls & Hometeam_Corners & Hometeam_Yellowcards & Hometeam_Redcards\\\\\n",
       "\\hline\n",
       "\t1 &  FSV MAINZ 05 & 1.515152 & 0.6969697 & 12.93939 & 4.30303 & 14.87879 & 4.515152 & 1.590909 & 0.09090909\\\\\n",
       "\t2 &  SV DARMSTADT 98 & 0.9333333 & 0.4666667 & 9.466667 & 3.2 & 15.4 & 3.4 & 2.6 & 0\\\\\n",
       "\t3 & 1899 HOFFENHEIM & 1.727273 & 0.8787879 & 14.56061 & 5.454545 & 16.24242 & 4.636364 & 1.757576 & 0.09090909\\\\\n",
       "\t4 & BAYER LEVERKUSEN & 2.060606 & 0.8484848 & 17.25758 & 6.348485 & 15.10606 & 6.742424 & 1.833333 & 0.07575758\\\\\n",
       "\t5 & BAYERN MUNICH & 2.984848 & 1.287879 & 19.87879 & 8.69697 & 11.31818 & 8.363636 & 1.015152 & 0.04545455\\\\\n",
       "\t6 & BOR. MONCHENGLADBACH & 2.044776 & 0.9253731 & 13.79104 & 5.820896 & 12.1791 & 4.537313 & 1.41791 & 0.07462687\\\\\n",
       "\\end{tabular}\n"
      ],
      "text/plain": [
       "               Group.1 Home_Goals Halftime_Home_Goals Hometeam_Shots\n",
       "1         FSV MAINZ 05  1.5151515           0.6969697      12.939394\n",
       "2      SV DARMSTADT 98  0.9333333           0.4666667       9.466667\n",
       "3      1899 HOFFENHEIM  1.7272727           0.8787879      14.560606\n",
       "4     BAYER LEVERKUSEN  2.0606061           0.8484848      17.257576\n",
       "5        BAYERN MUNICH  2.9848485           1.2878788      19.878788\n",
       "6 BOR. MONCHENGLADBACH  2.0447761           0.9253731      13.791045\n",
       "  Hometeam_Shots_Target Hometeam_Fouls Hometeam_Corners Hometeam_Yellowcards\n",
       "1              4.303030       14.87879         4.515152             1.590909\n",
       "2              3.200000       15.40000         3.400000             2.600000\n",
       "3              5.454545       16.24242         4.636364             1.757576\n",
       "4              6.348485       15.10606         6.742424             1.833333\n",
       "5              8.696970       11.31818         8.363636             1.015152\n",
       "6              5.820896       12.17910         4.537313             1.417910\n",
       "  Hometeam_Redcards\n",
       "1        0.09090909\n",
       "2        0.00000000\n",
       "3        0.09090909\n",
       "4        0.07575758\n",
       "5        0.04545455\n",
       "6        0.07462687"
      ]
     },
     "execution_count": 61,
     "metadata": {},
     "output_type": "execute_result"
    }
   ],
   "source": [
    "head(hometeamStatsagg)"
   ]
  },
  {
   "cell_type": "code",
   "execution_count": 63,
   "metadata": {
    "collapsed": false
   },
   "outputs": [
    {
     "data": {
      "text/html": [
       "<table>\n",
       "<thead><tr><th></th><th scope=col>Group.1</th><th scope=col>Away_Goals</th><th scope=col>Halftime_Away_Goals</th><th scope=col>Awayteam_Shots</th><th scope=col>Awayteam_Shots_Target</th><th scope=col>Awayteam_Fouls</th><th scope=col>Awayteam_Corners</th><th scope=col>Awayteam_Yellowcards</th><th scope=col>Awayteam_Redcards</th></tr></thead>\n",
       "<tbody>\n",
       "\t<tr><th scope=row>1</th><td> FSV MAINZ 05</td><td>1.223881</td><td>0.5970149</td><td>10.91045</td><td>4.044776</td><td>14.95522</td><td>3.731343</td><td>1.761194</td><td>0.07462687</td></tr>\n",
       "\t<tr><th scope=row>2</th><td> SV DARMSTADT 98</td><td>1.3125</td><td>0.875</td><td>11.0625</td><td>3.6875</td><td>17.4375</td><td>3.625</td><td>2.5625</td><td>0</td></tr>\n",
       "\t<tr><th scope=row>3</th><td>1899 HOFFENHEIM</td><td>1.268657</td><td>0.5820896</td><td>11.71642</td><td>4.208955</td><td>17.62687</td><td>3.716418</td><td>2.029851</td><td>0.08955224</td></tr>\n",
       "\t<tr><th scope=row>4</th><td>BAYER LEVERKUSEN</td><td>1.507463</td><td>0.7014925</td><td>13.50746</td><td>5.059701</td><td>16.76119</td><td>5.41791</td><td>2.179104</td><td>0.1044776</td></tr>\n",
       "\t<tr><th scope=row>5</th><td>BAYERN MUNICH</td><td>2.223881</td><td>0.8507463</td><td>15.59701</td><td>6.149254</td><td>12.8209</td><td>5.61194</td><td>1.328358</td><td>0.04477612</td></tr>\n",
       "\t<tr><th scope=row>6</th><td>BOR. MONCHENGLADBACH</td><td>1.242424</td><td>0.5606061</td><td>10.51515</td><td>3.909091</td><td>12.65152</td><td>4.106061</td><td>1.636364</td><td>0.06060606</td></tr>\n",
       "</tbody>\n",
       "</table>\n"
      ],
      "text/latex": [
       "\\begin{tabular}{r|lllllllll}\n",
       "  & Group.1 & Away_Goals & Halftime_Away_Goals & Awayteam_Shots & Awayteam_Shots_Target & Awayteam_Fouls & Awayteam_Corners & Awayteam_Yellowcards & Awayteam_Redcards\\\\\n",
       "\\hline\n",
       "\t1 &  FSV MAINZ 05 & 1.223881 & 0.5970149 & 10.91045 & 4.044776 & 14.95522 & 3.731343 & 1.761194 & 0.07462687\\\\\n",
       "\t2 &  SV DARMSTADT 98 & 1.3125 & 0.875 & 11.0625 & 3.6875 & 17.4375 & 3.625 & 2.5625 & 0\\\\\n",
       "\t3 & 1899 HOFFENHEIM & 1.268657 & 0.5820896 & 11.71642 & 4.208955 & 17.62687 & 3.716418 & 2.029851 & 0.08955224\\\\\n",
       "\t4 & BAYER LEVERKUSEN & 1.507463 & 0.7014925 & 13.50746 & 5.059701 & 16.76119 & 5.41791 & 2.179104 & 0.1044776\\\\\n",
       "\t5 & BAYERN MUNICH & 2.223881 & 0.8507463 & 15.59701 & 6.149254 & 12.8209 & 5.61194 & 1.328358 & 0.04477612\\\\\n",
       "\t6 & BOR. MONCHENGLADBACH & 1.242424 & 0.5606061 & 10.51515 & 3.909091 & 12.65152 & 4.106061 & 1.636364 & 0.06060606\\\\\n",
       "\\end{tabular}\n"
      ],
      "text/plain": [
       "               Group.1 Away_Goals Halftime_Away_Goals Awayteam_Shots\n",
       "1         FSV MAINZ 05   1.223881           0.5970149       10.91045\n",
       "2      SV DARMSTADT 98   1.312500           0.8750000       11.06250\n",
       "3      1899 HOFFENHEIM   1.268657           0.5820896       11.71642\n",
       "4     BAYER LEVERKUSEN   1.507463           0.7014925       13.50746\n",
       "5        BAYERN MUNICH   2.223881           0.8507463       15.59701\n",
       "6 BOR. MONCHENGLADBACH   1.242424           0.5606061       10.51515\n",
       "  Awayteam_Shots_Target Awayteam_Fouls Awayteam_Corners Awayteam_Yellowcards\n",
       "1              4.044776       14.95522         3.731343             1.761194\n",
       "2              3.687500       17.43750         3.625000             2.562500\n",
       "3              4.208955       17.62687         3.716418             2.029851\n",
       "4              5.059701       16.76119         5.417910             2.179104\n",
       "5              6.149254       12.82090         5.611940             1.328358\n",
       "6              3.909091       12.65152         4.106061             1.636364\n",
       "  Awayteam_Redcards\n",
       "1        0.07462687\n",
       "2        0.00000000\n",
       "3        0.08955224\n",
       "4        0.10447761\n",
       "5        0.04477612\n",
       "6        0.06060606"
      ]
     },
     "execution_count": 63,
     "metadata": {},
     "output_type": "execute_result"
    }
   ],
   "source": [
    "head(awayteamStatsagg)"
   ]
  },
  {
   "cell_type": "code",
   "execution_count": 64,
   "metadata": {
    "collapsed": false
   },
   "outputs": [
    {
     "data": {
      "text/html": [
       "<ol class=list-inline>\n",
       "\t<li>1</li>\n",
       "\t<li>22</li>\n",
       "</ol>\n"
      ],
      "text/latex": [
       "\\begin{enumerate*}\n",
       "\\item 1\n",
       "\\item 22\n",
       "\\end{enumerate*}\n"
      ],
      "text/markdown": [
       "1. 1\n",
       "2. 22\n",
       "\n",
       "\n"
      ],
      "text/plain": [
       "[1]  1 22"
      ]
     },
     "execution_count": 64,
     "metadata": {},
     "output_type": "execute_result"
    }
   ],
   "source": [
    "dim(readRDS(\"newCasegbm.rda\"))"
   ]
  },
  {
   "cell_type": "code",
   "execution_count": 78,
   "metadata": {
    "collapsed": false
   },
   "outputs": [
    {
     "data": {
      "text/html": [
       "<table>\n",
       "<thead><tr><th></th><th scope=col>Outcome</th><th scope=col>Match_Date</th><th scope=col>HomeTeam</th><th scope=col>AwayTeam</th><th scope=col>Home_Goals</th><th scope=col>Away_Goals</th><th scope=col>Halftime_Home_Goals</th><th scope=col>Halftime_Away_Goals</th><th scope=col>Hometeam_Shots</th><th scope=col>Awayteam_Shots</th><th scope=col>Hometeam_Shots_Target</th><th scope=col>Awayteam_Shots_Target</th><th scope=col>Hometeam_Fouls</th><th scope=col>Awayteam_Fouls</th><th scope=col>Hometeam_Corners</th><th scope=col>Awayteam_Corners</th><th scope=col>Hometeam_Yellowcards</th><th scope=col>Awayteam_Yellowcards</th><th scope=col>Hometeam_Redcards</th><th scope=col>Awayteam_Redcards</th><th scope=col>month</th><th scope=col>year</th></tr></thead>\n",
       "<tbody>\n",
       "\t<tr><th scope=row>1</th><td>win</td><td>2016-04-24</td><td>EINTRACHT FRANKFURT</td><td> FSV MAINZ 05</td><td>2</td><td>1</td><td>1</td><td>1</td><td>8</td><td>7</td><td>4</td><td>4</td><td>22</td><td>23</td><td>5</td><td>2</td><td>4</td><td>4</td><td>0</td><td>0</td><td>4</td><td>2016</td></tr>\n",
       "</tbody>\n",
       "</table>\n"
      ],
      "text/latex": [
       "\\begin{tabular}{r|llllllllllllllllllllll}\n",
       "  & Outcome & Match_Date & HomeTeam & AwayTeam & Home_Goals & Away_Goals & Halftime_Home_Goals & Halftime_Away_Goals & Hometeam_Shots & Awayteam_Shots & Hometeam_Shots_Target & Awayteam_Shots_Target & Hometeam_Fouls & Awayteam_Fouls & Hometeam_Corners & Awayteam_Corners & Hometeam_Yellowcards & Awayteam_Yellowcards & Hometeam_Redcards & Awayteam_Redcards & month & year\\\\\n",
       "\\hline\n",
       "\t1 & win & 2016-04-24 & EINTRACHT FRANKFURT &  FSV MAINZ 05 & 2 & 1 & 1 & 1 & 8 & 7 & 4 & 4 & 22 & 23 & 5 & 2 & 4 & 4 & 0 & 0 & 4 & 2016\\\\\n",
       "\\end{tabular}\n"
      ],
      "text/plain": [
       "  Outcome Match_Date            HomeTeam      AwayTeam Home_Goals Away_Goals\n",
       "1     win 2016-04-24 EINTRACHT FRANKFURT  FSV MAINZ 05          2          1\n",
       "  Halftime_Home_Goals Halftime_Away_Goals Hometeam_Shots Awayteam_Shots\n",
       "1                   1                   1              8              7\n",
       "  Hometeam_Shots_Target Awayteam_Shots_Target Hometeam_Fouls Awayteam_Fouls\n",
       "1                     4                     4             22             23\n",
       "  Hometeam_Corners Awayteam_Corners Hometeam_Yellowcards Awayteam_Yellowcards\n",
       "1                5                2                    4                    4\n",
       "  Hometeam_Redcards Awayteam_Redcards month year\n",
       "1                 0                 0     4 2016"
      ]
     },
     "execution_count": 78,
     "metadata": {},
     "output_type": "execute_result"
    }
   ],
   "source": [
    "head(readRDS(\"newCasegbm.rda\"))"
   ]
  },
  {
   "cell_type": "code",
   "execution_count": 157,
   "metadata": {
    "collapsed": false
   },
   "outputs": [],
   "source": [
    "# Create function to take team name inputs and return a prediction, gbm version\n",
    "predict_match <- function(homeTeam,awayTeam){\n",
    "    date<-Sys.Date()\n",
    "    \n",
    "    #build new case\n",
    "    newCase<-readRDS(\"newCasegbm.rda\")\n",
    "    newCase$Halftime_Result <- NULL\n",
    "    newCase[1,1]<-NA\n",
    "    newCase[1,2]<-factor(date)\n",
    "    newCase[1,22]<-factor(year(date))\n",
    "    newCase[1,21]<-factor(month(date))\n",
    "    newCase[1,3]<-homeTeam\n",
    "    newCase[1,4]<-awayTeam\n",
    "    #calculate aggregation for current season\n",
    "    awayteamStatsagg <- aggregate(subset(awayteamStats,year==year(date))[1:nrow(subset(awayteamStats,year==year(date))),6:13],\n",
    "                             by=list(subset(awayteamStats$AwayTeam,year==year(date))), FUN=mean)\n",
    "\n",
    "    hometeamStatsagg <- aggregate(subset(hometeamStats,year==year(date))[1:nrow(subset(hometeamStats,year==year(date))),6:13],\n",
    "                             by=list(subset(hometeamStats$HomeTeam,year==year(date))), FUN=mean)\n",
    "    \n",
    "    newCase[1,c(6,8,10,12,14,16,18,20)]<-ceiling(as.numeric(awayteamStatsagg[awayteamStatsagg[1] == awayTeam][2:9]))\n",
    "    newCase[1,c(5,7,9,11,13,15,17,19)]<-floor(as.numeric(hometeamStatsagg[hometeamStatsagg[1] == homeTeam][2:9]))\n",
    "    \n",
    "    #return(newCase)\n",
    "    # predict prob of new case\n",
    "    #newCase[1,6:20]<-as.numeric(newCase[1,5:20])\n",
    "    \n",
    "    #return(head(newCase))\n",
    "    y_probs <- predict(gbmFit2, newdata=newCase, type=\"prob\")\n",
    "    print(y_probs)\n",
    "    return((newCase))\n",
    "    #return(y_probs)\n",
    "}"
   ]
  },
  {
   "cell_type": "code",
   "execution_count": 161,
   "metadata": {
    "collapsed": false
   },
   "outputs": [
    {
     "name": "stdout",
     "output_type": "stream",
     "text": [
      "       loose       tie        win\n",
      "1 0.02258111 0.9575267 0.01989216\n"
     ]
    },
    {
     "data": {
      "text/html": [
       "<table>\n",
       "<thead><tr><th></th><th scope=col>Outcome</th><th scope=col>Match_Date</th><th scope=col>HomeTeam</th><th scope=col>AwayTeam</th><th scope=col>Home_Goals</th><th scope=col>Away_Goals</th><th scope=col>Halftime_Home_Goals</th><th scope=col>Halftime_Away_Goals</th><th scope=col>Hometeam_Shots</th><th scope=col>Awayteam_Shots</th><th scope=col>Hometeam_Shots_Target</th><th scope=col>Awayteam_Shots_Target</th><th scope=col>Hometeam_Fouls</th><th scope=col>Awayteam_Fouls</th><th scope=col>Hometeam_Corners</th><th scope=col>Awayteam_Corners</th><th scope=col>Hometeam_Yellowcards</th><th scope=col>Awayteam_Yellowcards</th><th scope=col>Hometeam_Redcards</th><th scope=col>Awayteam_Redcards</th><th scope=col>month</th><th scope=col>year</th></tr></thead>\n",
       "<tbody>\n",
       "\t<tr><th scope=row>1</th><td>NA</td><td>2016-05-01</td><td> SV DARMSTADT 98</td><td>EINTRACHT FRANKFURT</td><td>1</td><td>1</td><td>0</td><td>1</td><td>9</td><td>10</td><td>4</td><td>4</td><td>15</td><td>17</td><td>3</td><td>3</td><td>2</td><td>4</td><td>0</td><td>0</td><td>5</td><td>2016</td></tr>\n",
       "</tbody>\n",
       "</table>\n"
      ],
      "text/latex": [
       "\\begin{tabular}{r|llllllllllllllllllllll}\n",
       "  & Outcome & Match_Date & HomeTeam & AwayTeam & Home_Goals & Away_Goals & Halftime_Home_Goals & Halftime_Away_Goals & Hometeam_Shots & Awayteam_Shots & Hometeam_Shots_Target & Awayteam_Shots_Target & Hometeam_Fouls & Awayteam_Fouls & Hometeam_Corners & Awayteam_Corners & Hometeam_Yellowcards & Awayteam_Yellowcards & Hometeam_Redcards & Awayteam_Redcards & month & year\\\\\n",
       "\\hline\n",
       "\t1 & NA & 2016-05-01 &  SV DARMSTADT 98 & EINTRACHT FRANKFURT & 1 & 1 & 0 & 1 & 9 & 10 & 4 & 4 & 15 & 17 & 3 & 3 & 2 & 4 & 0 & 0 & 5 & 2016\\\\\n",
       "\\end{tabular}\n"
      ],
      "text/plain": [
       "  Outcome Match_Date         HomeTeam            AwayTeam Home_Goals Away_Goals\n",
       "1    <NA> 2016-05-01  SV DARMSTADT 98 EINTRACHT FRANKFURT          1          1\n",
       "  Halftime_Home_Goals Halftime_Away_Goals Hometeam_Shots Awayteam_Shots\n",
       "1                   0                   1              9             10\n",
       "  Hometeam_Shots_Target Awayteam_Shots_Target Hometeam_Fouls Awayteam_Fouls\n",
       "1                     4                     4             15             17\n",
       "  Hometeam_Corners Awayteam_Corners Hometeam_Yellowcards Awayteam_Yellowcards\n",
       "1                3                3                    2                    4\n",
       "  Hometeam_Redcards Awayteam_Redcards month year\n",
       "1                 0                 0     5 2016"
      ]
     },
     "execution_count": 161,
     "metadata": {},
     "output_type": "execute_result"
    }
   ],
   "source": [
    "predict_match(homeTeam,awayTeam)"
   ]
  },
  {
   "cell_type": "code",
   "execution_count": 155,
   "metadata": {
    "collapsed": false,
    "scrolled": true
   },
   "outputs": [
    {
     "data": {
      "image/png": "[encoded data removed]",
      "text/plain": [
       "plot without title"
      ]
     },
     "metadata": {
      "image/svg+xml": {
       "isolated": true
      }
     },
     "output_type": "display_data"
    }
   ],
   "source": [
    "plot(gbmFit2)"
   ]
  },
  {
   "cell_type": "code",
   "execution_count": 163,
   "metadata": {
    "collapsed": false,
    "scrolled": true
   },
   "outputs": [
    {
     "name": "stdout",
     "output_type": "stream",
     "text": [
      "       loose      tie        win\n",
      "1 0.03340544 0.930872 0.03572253\n"
     ]
    },
    {
     "data": {
      "text/html": [
       "<table>\n",
       "<thead><tr><th></th><th scope=col>Outcome</th><th scope=col>Match_Date</th><th scope=col>HomeTeam</th><th scope=col>AwayTeam</th><th scope=col>Home_Goals</th><th scope=col>Away_Goals</th><th scope=col>Halftime_Home_Goals</th><th scope=col>Halftime_Away_Goals</th><th scope=col>Hometeam_Shots</th><th scope=col>Awayteam_Shots</th><th scope=col>Hometeam_Shots_Target</th><th scope=col>Awayteam_Shots_Target</th><th scope=col>Hometeam_Fouls</th><th scope=col>Awayteam_Fouls</th><th scope=col>Hometeam_Corners</th><th scope=col>Awayteam_Corners</th><th scope=col>Hometeam_Yellowcards</th><th scope=col>Awayteam_Yellowcards</th><th scope=col>Hometeam_Redcards</th><th scope=col>Awayteam_Redcards</th><th scope=col>month</th><th scope=col>year</th></tr></thead>\n",
       "<tbody>\n",
       "\t<tr><th scope=row>1</th><td>NA</td><td>2016-05-01</td><td>WERDER BREMEN</td><td>VfB STUTTGART</td><td>2</td><td>2</td><td>1</td><td>1</td><td>16</td><td>14</td><td>6</td><td>6</td><td>15</td><td>16</td><td>5</td><td>7</td><td>2</td><td>2</td><td>0</td><td>1</td><td>5</td><td>2016</td></tr>\n",
       "</tbody>\n",
       "</table>\n"
      ],
      "text/latex": [
       "\\begin{tabular}{r|llllllllllllllllllllll}\n",
       "  & Outcome & Match_Date & HomeTeam & AwayTeam & Home_Goals & Away_Goals & Halftime_Home_Goals & Halftime_Away_Goals & Hometeam_Shots & Awayteam_Shots & Hometeam_Shots_Target & Awayteam_Shots_Target & Hometeam_Fouls & Awayteam_Fouls & Hometeam_Corners & Awayteam_Corners & Hometeam_Yellowcards & Awayteam_Yellowcards & Hometeam_Redcards & Awayteam_Redcards & month & year\\\\\n",
       "\\hline\n",
       "\t1 & NA & 2016-05-01 & WERDER BREMEN & VfB STUTTGART & 2 & 2 & 1 & 1 & 16 & 14 & 6 & 6 & 15 & 16 & 5 & 7 & 2 & 2 & 0 & 1 & 5 & 2016\\\\\n",
       "\\end{tabular}\n"
      ],
      "text/plain": [
       "  Outcome Match_Date      HomeTeam      AwayTeam Home_Goals Away_Goals\n",
       "1    <NA> 2016-05-01 WERDER BREMEN VfB STUTTGART          2          2\n",
       "  Halftime_Home_Goals Halftime_Away_Goals Hometeam_Shots Awayteam_Shots\n",
       "1                   1                   1             16             14\n",
       "  Hometeam_Shots_Target Awayteam_Shots_Target Hometeam_Fouls Awayteam_Fouls\n",
       "1                     6                     6             15             16\n",
       "  Hometeam_Corners Awayteam_Corners Hometeam_Yellowcards Awayteam_Yellowcards\n",
       "1                5                7                    2                    2\n",
       "  Hometeam_Redcards Awayteam_Redcards month year\n",
       "1                 0                 1     5 2016"
      ]
     },
     "execution_count": 163,
     "metadata": {},
     "output_type": "execute_result"
    }
   ],
   "source": [
    "homeTeam<-\"WERDER BREMEN\"\n",
    "awayTeam<-\"VfB STUTTGART\"\n",
    "predict_match(homeTeam,awayTeam)"
   ]
  },
  {
   "cell_type": "code",
   "execution_count": 94,
   "metadata": {
    "collapsed": false
   },
   "outputs": [
    {
     "data": {
      "text/html": [
       "<ol class=list-inline>\n",
       "\t<li> FSV MAINZ 05</li>\n",
       "\t<li> SV DARMSTADT 98</li>\n",
       "\t<li>1899 HOFFENHEIM</li>\n",
       "\t<li>BAYER LEVERKUSEN</li>\n",
       "\t<li>BAYERN MUNICH</li>\n",
       "\t<li>BOR. MONCHENGLADBACH</li>\n",
       "\t<li>BORUSSIA DORTMUND</li>\n",
       "\t<li>Braunschweig</li>\n",
       "\t<li>EINTRACHT FRANKFURT</li>\n",
       "\t<li>FC AUGSBURG</li>\n",
       "\t<li>FC INGOLSTADT 04</li>\n",
       "\t<li>FC KOLN</li>\n",
       "\t<li>FC SCHALKE 04</li>\n",
       "\t<li>Fortuna Dusseldorf</li>\n",
       "\t<li>Freiburg</li>\n",
       "\t<li>Greuther Furth</li>\n",
       "\t<li>HAMBURGER SV</li>\n",
       "\t<li>HANNOVER 96</li>\n",
       "\t<li>HERTHA BERLIN</li>\n",
       "\t<li>Nurnberg</li>\n",
       "\t<li>Paderborn</li>\n",
       "\t<li>VfB STUTTGART</li>\n",
       "\t<li>VfL WOLFSBURG</li>\n",
       "\t<li>WERDER BREMEN</li>\n",
       "</ol>\n"
      ],
      "text/latex": [
       "\\begin{enumerate*}\n",
       "\\item  FSV MAINZ 05\n",
       "\\item  SV DARMSTADT 98\n",
       "\\item 1899 HOFFENHEIM\n",
       "\\item BAYER LEVERKUSEN\n",
       "\\item BAYERN MUNICH\n",
       "\\item BOR. MONCHENGLADBACH\n",
       "\\item BORUSSIA DORTMUND\n",
       "\\item Braunschweig\n",
       "\\item EINTRACHT FRANKFURT\n",
       "\\item FC AUGSBURG\n",
       "\\item FC INGOLSTADT 04\n",
       "\\item FC KOLN\n",
       "\\item FC SCHALKE 04\n",
       "\\item Fortuna Dusseldorf\n",
       "\\item Freiburg\n",
       "\\item Greuther Furth\n",
       "\\item HAMBURGER SV\n",
       "\\item HANNOVER 96\n",
       "\\item HERTHA BERLIN\n",
       "\\item Nurnberg\n",
       "\\item Paderborn\n",
       "\\item VfB STUTTGART\n",
       "\\item VfL WOLFSBURG\n",
       "\\item WERDER BREMEN\n",
       "\\end{enumerate*}\n"
      ],
      "text/markdown": [
       "1.  FSV MAINZ 05\n",
       "2.  SV DARMSTADT 98\n",
       "3. 1899 HOFFENHEIM\n",
       "4. BAYER LEVERKUSEN\n",
       "5. BAYERN MUNICH\n",
       "6. BOR. MONCHENGLADBACH\n",
       "7. BORUSSIA DORTMUND\n",
       "8. Braunschweig\n",
       "9. EINTRACHT FRANKFURT\n",
       "10. FC AUGSBURG\n",
       "11. FC INGOLSTADT 04\n",
       "12. FC KOLN\n",
       "13. FC SCHALKE 04\n",
       "14. Fortuna Dusseldorf\n",
       "15. Freiburg\n",
       "16. Greuther Furth\n",
       "17. HAMBURGER SV\n",
       "18. HANNOVER 96\n",
       "19. HERTHA BERLIN\n",
       "20. Nurnberg\n",
       "21. Paderborn\n",
       "22. VfB STUTTGART\n",
       "23. VfL WOLFSBURG\n",
       "24. WERDER BREMEN\n",
       "\n",
       "\n"
      ],
      "text/plain": [
       " [1]  FSV MAINZ 05         SV DARMSTADT 98     1899 HOFFENHEIM     \n",
       " [4] BAYER LEVERKUSEN     BAYERN MUNICH        BOR. MONCHENGLADBACH\n",
       " [7] BORUSSIA DORTMUND    Braunschweig         EINTRACHT FRANKFURT \n",
       "[10] FC AUGSBURG          FC INGOLSTADT 04     FC KOLN             \n",
       "[13] FC SCHALKE 04        Fortuna Dusseldorf   Freiburg            \n",
       "[16] Greuther Furth       HAMBURGER SV         HANNOVER 96         \n",
       "[19] HERTHA BERLIN        Nurnberg             Paderborn           \n",
       "[22] VfB STUTTGART        VfL WOLFSBURG        WERDER BREMEN       \n",
       "24 Levels:  FSV MAINZ 05  SV DARMSTADT 98 1899 HOFFENHEIM ... WERDER BREMEN"
      ]
     },
     "execution_count": 94,
     "metadata": {},
     "output_type": "execute_result"
    }
   ],
   "source": [
    "awayteamStatsagg$Group.1"
   ]
  },
  {
   "cell_type": "code",
   "execution_count": 483,
   "metadata": {
    "collapsed": false
   },
   "outputs": [],
   "source": [
    "year = year(Match_Date)\n",
    "Outcome = \"tie\"\n",
    "Match_Date = Sys.Date()\n",
    "HomeTeam = factor(\"FC AUGSBURG\")\n",
    "AwayTeam = factor(\"FC KOLN\")\n",
    "Home_Goals = 0\n",
    "Away_Goals = 0\n",
    "Halftime_Home_Goals = 0\n",
    "Halftime_Away_Goals = 0\n",
    "Hometeam_Shots = 8\n",
    "Awayteam_Shots = 5\n",
    "Hometeam_Shots_Target = 1\n",
    "Awayteam_Shots_Target = 0\n",
    "Hometeam_Fouls = 10\n",
    "Awayteam_Fouls = 14\n",
    "Hometeam_Corners = 5\n",
    "Awayteam_Corners = 5\n",
    "Hometeam_Yellowcards = 3\n",
    "Awayteam_Yellowcards = 3\n",
    "Hometeam_Redcards = 0\n",
    "Awayteam_Redcards = 1\n",
    "month = month(Match_Date)\n"
   ]
  },
  {
   "cell_type": "code",
   "execution_count": 487,
   "metadata": {
    "collapsed": false
   },
   "outputs": [],
   "source": [
    "newrow<- data.frame(year, Outcome, Match_Date, HomeTeam, AwayTeam, Home_Goals, Away_Goals, Halftime_Home_Goals, Halftime_Away_Goals, Hometeam_Shots, Awayteam_Shots, Hometeam_Shots_Target, Awayteam_Shots_Target, Hometeam_Fouls, Awayteam_Fouls, Hometeam_Corners, Awayteam_Corners, Hometeam_Yellowcards, Awayteam_Yellowcards, Hometeam_Redcards, Awayteam_Redcards, month)"
   ]
  },
  {
   "cell_type": "code",
   "execution_count": 488,
   "metadata": {
    "collapsed": false
   },
   "outputs": [
    {
     "name": "stdout",
     "output_type": "stream",
     "text": [
      "'data.frame':\t1 obs. of  22 variables:\n",
      " $ year                 : num 2016\n",
      " $ Outcome              : Factor w/ 1 level \"tie\": 1\n",
      " $ Match_Date           : Date, format: \"2016-05-01\"\n",
      " $ HomeTeam             : Factor w/ 1 level \"FC AUGSBURG\": 1\n",
      " $ AwayTeam             : Factor w/ 1 level \"FC KOLN\": 1\n",
      " $ Home_Goals           : num 0\n",
      " $ Away_Goals           : num 0\n",
      " $ Halftime_Home_Goals  : num 0\n",
      " $ Halftime_Away_Goals  : num 0\n",
      " $ Hometeam_Shots       : num 8\n",
      " $ Awayteam_Shots       : num 5\n",
      " $ Hometeam_Shots_Target: num 1\n",
      " $ Awayteam_Shots_Target: num 0\n",
      " $ Hometeam_Fouls       : num 10\n",
      " $ Awayteam_Fouls       : num 14\n",
      " $ Hometeam_Corners     : num 5\n",
      " $ Awayteam_Corners     : num 5\n",
      " $ Hometeam_Yellowcards : num 3\n",
      " $ Awayteam_Yellowcards : num 3\n",
      " $ Hometeam_Redcards    : num 0\n",
      " $ Awayteam_Redcards    : num 1\n",
      " $ month                : num 5\n"
     ]
    }
   ],
   "source": [
    "str(newrow)"
   ]
  },
  {
   "cell_type": "code",
   "execution_count": 494,
   "metadata": {
    "collapsed": false
   },
   "outputs": [],
   "source": [
    "temp = rbind(data,newrow)"
   ]
  },
  {
   "cell_type": "code",
   "execution_count": 495,
   "metadata": {
    "collapsed": false
   },
   "outputs": [
    {
     "name": "stdout",
     "output_type": "stream",
     "text": [
      "'data.frame':\t1197 obs. of  22 variables:\n",
      " $ year                 : Factor w/ 5 levels \"2012\",\"2013\",..: 5 5 5 5 5 5 5 5 5 5 ...\n",
      " $ Outcome              : Factor w/ 3 levels \"loose\",\"tie\",..: 3 3 3 1 2 1 1 1 3 3 ...\n",
      " $ Match_Date           : Date, format: \"2016-04-24\" \"2016-04-24\" ...\n",
      " $ HomeTeam             : Factor w/ 24 levels \" FSV MAINZ 05\",..: 9 6 12 19 11 13 22 23 17 7 ...\n",
      " $ AwayTeam             : Factor w/ 24 levels \" FSV MAINZ 05\",..: 1 3 2 5 18 4 7 10 24 17 ...\n",
      " $ Home_Goals           : num  2 3 4 0 2 2 0 0 2 3 ...\n",
      " $ Away_Goals           : num  1 1 1 2 2 3 3 2 1 0 ...\n",
      " $ Halftime_Home_Goals  : num  1 2 2 0 2 2 0 0 2 2 ...\n",
      " $ Halftime_Away_Goals  : num  1 0 1 0 0 0 2 1 0 0 ...\n",
      " $ Hometeam_Shots       : num  8 24 15 9 8 20 8 19 12 14 ...\n",
      " $ Awayteam_Shots       : num  7 14 15 6 14 16 16 8 21 5 ...\n",
      " $ Hometeam_Shots_Target: num  4 11 9 0 3 8 1 7 7 5 ...\n",
      " $ Awayteam_Shots_Target: num  4 8 2 6 4 6 9 4 10 1 ...\n",
      " $ Hometeam_Fouls       : num  22 14 15 9 10 19 19 7 22 6 ...\n",
      " $ Awayteam_Fouls       : num  23 11 17 17 13 16 10 19 11 16 ...\n",
      " $ Hometeam_Corners     : num  5 12 3 1 2 6 3 6 5 10 ...\n",
      " $ Awayteam_Corners     : num  2 3 6 3 7 4 4 1 4 0 ...\n",
      " $ Hometeam_Yellowcards : num  4 1 2 0 2 3 0 0 3 0 ...\n",
      " $ Awayteam_Yellowcards : num  4 2 2 4 2 3 1 2 4 0 ...\n",
      " $ Hometeam_Redcards    : num  0 0 0 0 1 0 0 0 0 0 ...\n",
      " $ Awayteam_Redcards    : num  0 0 0 0 0 0 0 0 0 1 ...\n",
      " $ month                : Factor w/ 10 levels \"1\",\"2\",\"3\",\"4\",..: 4 4 4 4 4 4 4 4 4 4 ...\n"
     ]
    }
   ],
   "source": [
    "str(data)"
   ]
  },
  {
   "cell_type": "code",
   "execution_count": null,
   "metadata": {
    "collapsed": true
   },
   "outputs": [],
   "source": []
  }
 ],
 "metadata": {
  "kernelspec": {
   "display_name": "R",
   "language": "R",
   "name": "ir"
  },
  "language_info": {
   "codemirror_mode": "r",
   "file_extension": ".r",
   "mimetype": "text/x-r-source",
   "name": "R",
   "pygments_lexer": "r",
   "version": "3.1.3"
  }
 },
 "nbformat": 4,
 "nbformat_minor": 0
}
